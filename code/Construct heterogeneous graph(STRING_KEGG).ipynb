{
 "cells": [
  {
   "cell_type": "markdown",
   "metadata": {},
   "source": [
    "# Enviorment"
   ]
  },
  {
   "cell_type": "code",
   "execution_count": 1,
   "metadata": {
    "ExecuteTime": {
     "end_time": "2021-10-15T18:18:24.750818Z",
     "start_time": "2021-10-15T18:18:21.804659Z"
    }
   },
   "outputs": [],
   "source": [
    "%matplotlib inline\n",
    "import pandas as pd\n",
    "import numpy as np\n",
    "from scipy import stats\n",
    "import seaborn as sns\n",
    "from  matplotlib import pyplot as plt\n",
    "import networkx as nx\n",
    "plt.style.use('ggplot')\n",
    "from tqdm import tqdm_notebook\n",
    "#tqdm_notebook().pandas()\n",
    "import swifter\n",
    "import qgrid\n",
    "import numpy as np\n",
    "import networkx as nx\n",
    "import random\n",
    "from scipy.sparse import spdiags\n",
    "from functools import partial\n",
    "import mygene\n",
    "import sys"
   ]
  },
  {
   "cell_type": "markdown",
   "metadata": {},
   "source": [
    "# Loading STRING network"
   ]
  },
  {
   "cell_type": "markdown",
   "metadata": {},
   "source": [
    "## STRING(addressed)"
   ]
  },
  {
   "cell_type": "code",
   "execution_count": 2,
   "metadata": {
    "ExecuteTime": {
     "end_time": "2021-10-15T18:18:30.835267Z",
     "start_time": "2021-10-15T18:18:24.763413Z"
    }
   },
   "outputs": [
    {
     "name": "stdout",
     "output_type": "stream",
     "text": [
      "                 protein1         protein2  combined_score\n",
      "0         ENSP00000000233  ENSP00000272298             490\n",
      "1         ENSP00000000233  ENSP00000253401             198\n",
      "2         ENSP00000000233  ENSP00000401445             159\n",
      "3         ENSP00000000233  ENSP00000418915             606\n",
      "4         ENSP00000000233  ENSP00000327801             167\n",
      "...                   ...              ...             ...\n",
      "11759449  ENSP00000485678  ENSP00000310488             167\n",
      "11759450  ENSP00000485678  ENSP00000342448             175\n",
      "11759451  ENSP00000485678  ENSP00000350222             195\n",
      "11759452  ENSP00000485678  ENSP00000367590             900\n",
      "11759453  ENSP00000485678  ENSP00000349930             213\n",
      "\n",
      "[11759454 rows x 3 columns]\n",
      "38708\n"
     ]
    }
   ],
   "source": [
    "file = '../data/string.txt'\n",
    "df_og_string = pd.read_table(file,sep=' ',names=['protein1','protein2','combined_score'])\n",
    "print(df_og_string)\n",
    "df_og = np.append(df_og_string.protein1.unique(),df_og_string.protein2.unique())\n",
    "print(len(df_og))"
   ]
  },
  {
   "cell_type": "markdown",
   "metadata": {},
   "source": [
    "## STRING-physical(unaddressed)"
   ]
  },
  {
   "cell_type": "code",
   "execution_count": 3,
   "metadata": {
    "ExecuteTime": {
     "end_time": "2021-10-15T18:18:36.935394Z",
     "start_time": "2021-10-15T18:18:31.350741Z"
    }
   },
   "outputs": [
    {
     "name": "stdout",
     "output_type": "stream",
     "text": [
      "                     protein1              protein2  experiments  database  \\\n",
      "0        9606.ENSP00000000233  9606.ENSP00000003100           85         0   \n",
      "1        9606.ENSP00000000233  9606.ENSP00000005260          262         0   \n",
      "2        9606.ENSP00000000233  9606.ENSP00000007414           83         0   \n",
      "3        9606.ENSP00000000233  9606.ENSP00000009105          167         0   \n",
      "4        9606.ENSP00000000233  9606.ENSP00000012443          157         0   \n",
      "...                       ...                   ...          ...       ...   \n",
      "8683833  9606.ENSP00000485672  9606.ENSP00000469863          178         0   \n",
      "8683834  9606.ENSP00000485672  9606.ENSP00000479667          266         0   \n",
      "8683835  9606.ENSP00000485678  9606.ENSP00000248572            0       900   \n",
      "8683836  9606.ENSP00000485678  9606.ENSP00000334051            0       900   \n",
      "8683837  9606.ENSP00000485678  9606.ENSP00000481878            0       900   \n",
      "\n",
      "         textmining  combined_score  \n",
      "0                65             107  \n",
      "1                 0             262  \n",
      "2               108             147  \n",
      "3                56             180  \n",
      "4                50             164  \n",
      "...             ...             ...  \n",
      "8683833          50             185  \n",
      "8683834           0             266  \n",
      "8683835           0             900  \n",
      "8683836           0             900  \n",
      "8683837           0             900  \n",
      "\n",
      "[8683838 rows x 6 columns]\n"
     ]
    }
   ],
   "source": [
    "file='../data/9606.protein.physical.links.detailed.v11.0.txt'\n",
    "df_string = pd.read_csv(file,sep=' ')\n",
    "print(df_string)"
   ]
  },
  {
   "cell_type": "markdown",
   "metadata": {},
   "source": [
    "### string address"
   ]
  },
  {
   "cell_type": "code",
   "execution_count": 4,
   "metadata": {
    "ExecuteTime": {
     "end_time": "2021-10-15T18:18:41.543451Z",
     "start_time": "2021-10-15T18:18:36.963393Z"
    }
   },
   "outputs": [
    {
     "data": {
      "text/html": [
       "<div>\n",
       "<style scoped>\n",
       "    .dataframe tbody tr th:only-of-type {\n",
       "        vertical-align: middle;\n",
       "    }\n",
       "\n",
       "    .dataframe tbody tr th {\n",
       "        vertical-align: top;\n",
       "    }\n",
       "\n",
       "    .dataframe thead th {\n",
       "        text-align: right;\n",
       "    }\n",
       "</style>\n",
       "<table border=\"1\" class=\"dataframe\">\n",
       "  <thead>\n",
       "    <tr style=\"text-align: right;\">\n",
       "      <th></th>\n",
       "      <th>protein1</th>\n",
       "      <th>protein2</th>\n",
       "      <th>experiments</th>\n",
       "      <th>database</th>\n",
       "      <th>textmining</th>\n",
       "      <th>combined_score</th>\n",
       "    </tr>\n",
       "  </thead>\n",
       "  <tbody>\n",
       "    <tr>\n",
       "      <th>0</th>\n",
       "      <td>ENSP00000000233</td>\n",
       "      <td>ENSP00000003100</td>\n",
       "      <td>85</td>\n",
       "      <td>0</td>\n",
       "      <td>65</td>\n",
       "      <td>107</td>\n",
       "    </tr>\n",
       "    <tr>\n",
       "      <th>1</th>\n",
       "      <td>ENSP00000000233</td>\n",
       "      <td>ENSP00000005260</td>\n",
       "      <td>262</td>\n",
       "      <td>0</td>\n",
       "      <td>0</td>\n",
       "      <td>262</td>\n",
       "    </tr>\n",
       "    <tr>\n",
       "      <th>2</th>\n",
       "      <td>ENSP00000000233</td>\n",
       "      <td>ENSP00000007414</td>\n",
       "      <td>83</td>\n",
       "      <td>0</td>\n",
       "      <td>108</td>\n",
       "      <td>147</td>\n",
       "    </tr>\n",
       "  </tbody>\n",
       "</table>\n",
       "</div>"
      ],
      "text/plain": [
       "          protein1         protein2  experiments  database  textmining  \\\n",
       "0  ENSP00000000233  ENSP00000003100           85         0          65   \n",
       "1  ENSP00000000233  ENSP00000005260          262         0           0   \n",
       "2  ENSP00000000233  ENSP00000007414           83         0         108   \n",
       "\n",
       "   combined_score  \n",
       "0             107  \n",
       "1             262  \n",
       "2             147  "
      ]
     },
     "execution_count": 4,
     "metadata": {},
     "output_type": "execute_result"
    }
   ],
   "source": [
    "df_string['protein1'] = df_string.protein1.apply(lambda x : x.lstrip('9606.'))\n",
    "df_string['protein2'] = df_string.protein2.apply(lambda x : x.lstrip('9606.'))\n",
    "df_string[:3]"
   ]
  },
  {
   "cell_type": "markdown",
   "metadata": {},
   "source": [
    "### value address"
   ]
  },
  {
   "cell_type": "code",
   "execution_count": 5,
   "metadata": {
    "ExecuteTime": {
     "end_time": "2021-10-15T18:18:41.573769Z",
     "start_time": "2021-10-15T18:18:41.570997Z"
    }
   },
   "outputs": [],
   "source": [
    "new_col = 'percent'\n",
    "def col_percent(df):\n",
    "    return (df['combined_score']-df['textmining'])/1000"
   ]
  },
  {
   "cell_type": "code",
   "execution_count": 6,
   "metadata": {
    "ExecuteTime": {
     "end_time": "2021-10-15T18:18:41.805918Z",
     "start_time": "2021-10-15T18:18:41.602622Z"
    }
   },
   "outputs": [],
   "source": [
    "df_string[new_col] = df_string.swifter.apply(col_percent,axis=1)\n",
    "confidence_score_high = df_string[df_string.percent >= 0.7]\n",
    "confidence_score_med = df_string[(df_string.percent<0.7) & (df_string.percent >=0.4)]"
   ]
  },
  {
   "cell_type": "code",
   "execution_count": 7,
   "metadata": {
    "ExecuteTime": {
     "end_time": "2021-10-15T18:18:41.863234Z",
     "start_time": "2021-10-15T18:18:41.854715Z"
    }
   },
   "outputs": [
    {
     "data": {
      "text/html": [
       "<div>\n",
       "<style scoped>\n",
       "    .dataframe tbody tr th:only-of-type {\n",
       "        vertical-align: middle;\n",
       "    }\n",
       "\n",
       "    .dataframe tbody tr th {\n",
       "        vertical-align: top;\n",
       "    }\n",
       "\n",
       "    .dataframe thead th {\n",
       "        text-align: right;\n",
       "    }\n",
       "</style>\n",
       "<table border=\"1\" class=\"dataframe\">\n",
       "  <thead>\n",
       "    <tr style=\"text-align: right;\">\n",
       "      <th></th>\n",
       "      <th>protein1</th>\n",
       "      <th>protein2</th>\n",
       "      <th>experiments</th>\n",
       "      <th>database</th>\n",
       "      <th>textmining</th>\n",
       "      <th>combined_score</th>\n",
       "      <th>percent</th>\n",
       "    </tr>\n",
       "  </thead>\n",
       "  <tbody>\n",
       "    <tr>\n",
       "      <th>0</th>\n",
       "      <td>ENSP00000000233</td>\n",
       "      <td>ENSP00000003100</td>\n",
       "      <td>85</td>\n",
       "      <td>0</td>\n",
       "      <td>65</td>\n",
       "      <td>107</td>\n",
       "      <td>0.042</td>\n",
       "    </tr>\n",
       "    <tr>\n",
       "      <th>1</th>\n",
       "      <td>ENSP00000000233</td>\n",
       "      <td>ENSP00000005260</td>\n",
       "      <td>262</td>\n",
       "      <td>0</td>\n",
       "      <td>0</td>\n",
       "      <td>262</td>\n",
       "      <td>0.262</td>\n",
       "    </tr>\n",
       "    <tr>\n",
       "      <th>2</th>\n",
       "      <td>ENSP00000000233</td>\n",
       "      <td>ENSP00000007414</td>\n",
       "      <td>83</td>\n",
       "      <td>0</td>\n",
       "      <td>108</td>\n",
       "      <td>147</td>\n",
       "      <td>0.039</td>\n",
       "    </tr>\n",
       "  </tbody>\n",
       "</table>\n",
       "</div>"
      ],
      "text/plain": [
       "          protein1         protein2  experiments  database  textmining  \\\n",
       "0  ENSP00000000233  ENSP00000003100           85         0          65   \n",
       "1  ENSP00000000233  ENSP00000005260          262         0           0   \n",
       "2  ENSP00000000233  ENSP00000007414           83         0         108   \n",
       "\n",
       "   combined_score  percent  \n",
       "0             107    0.042  \n",
       "1             262    0.262  \n",
       "2             147    0.039  "
      ]
     },
     "execution_count": 7,
     "metadata": {},
     "output_type": "execute_result"
    }
   ],
   "source": [
    "df_string[:3]"
   ]
  },
  {
   "cell_type": "code",
   "execution_count": 8,
   "metadata": {
    "ExecuteTime": {
     "end_time": "2021-10-15T18:18:41.950589Z",
     "start_time": "2021-10-15T18:18:41.907412Z"
    }
   },
   "outputs": [
    {
     "name": "stdout",
     "output_type": "stream",
     "text": [
      "         experiments       database     textmining  combined_score  \\\n",
      "count  221372.000000  221372.000000  221372.000000   221372.000000   \n",
      "mean      124.226524     862.972734      45.396057      900.830484   \n",
      "std       231.571236     161.380010      58.996919       42.885821   \n",
      "min         0.000000       0.000000       0.000000      700.000000   \n",
      "25%         0.000000     900.000000       0.000000      900.000000   \n",
      "50%         0.000000     900.000000       0.000000      901.000000   \n",
      "75%       162.000000     900.000000      69.000000      912.000000   \n",
      "max       998.000000     900.000000     298.000000      999.000000   \n",
      "\n",
      "             percent  \n",
      "count  221372.000000  \n",
      "mean        0.855434  \n",
      "std         0.059726  \n",
      "min         0.700000  \n",
      "25%         0.824000  \n",
      "50%         0.867000  \n",
      "75%         0.900000  \n",
      "max         0.999000  \n"
     ]
    }
   ],
   "source": [
    "print(confidence_score_high.describe())"
   ]
  },
  {
   "cell_type": "markdown",
   "metadata": {},
   "source": [
    "# nodelist"
   ]
  },
  {
   "cell_type": "code",
   "execution_count": 9,
   "metadata": {
    "ExecuteTime": {
     "end_time": "2021-10-15T18:18:43.026177Z",
     "start_time": "2021-10-15T18:18:41.991790Z"
    }
   },
   "outputs": [],
   "source": [
    "physical_nodelist = np.append(df_string.protein1.unique(),df_string.protein2.unique())"
   ]
  },
  {
   "cell_type": "code",
   "execution_count": 10,
   "metadata": {
    "ExecuteTime": {
     "end_time": "2021-10-15T18:18:43.091857Z",
     "start_time": "2021-10-15T18:18:43.077681Z"
    }
   },
   "outputs": [
    {
     "name": "stdout",
     "output_type": "stream",
     "text": [
      "19000\n",
      "['ENSP00000376423', 'ENSP00000322915', 'ENSP00000380178', 'ENSP00000344401', 'ENSP00000248706']\n"
     ]
    }
   ],
   "source": [
    "physical_nodelist =list(set(physical_nodelist))\n",
    "print(len(physical_nodelist))\n",
    "print(physical_nodelist[:5])"
   ]
  },
  {
   "cell_type": "markdown",
   "metadata": {},
   "source": [
    "## read STRING-phycial addressed graph to graph"
   ]
  },
  {
   "cell_type": "markdown",
   "metadata": {},
   "source": [
    "txt to graph"
   ]
  },
  {
   "cell_type": "code",
   "execution_count": 11,
   "metadata": {
    "ExecuteTime": {
     "end_time": "2021-10-15T18:18:44.416993Z",
     "start_time": "2021-10-15T18:18:44.413362Z"
    }
   },
   "outputs": [
    {
     "data": {
      "text/plain": [
       "'\\nimport networkx as nx\\nfh = open(r\"/Users/suweilin/Downloads/STRING_physical_network_AfterProcess.txt\", \\'rb\\')\\nG1 = nx.read_weighted_edgelist(fh,create_using=nx.DiGraph)\\ndegree1 = nx.degree(G1, nbunch=None, weight=True)\\nnumberofnode1 = nx.number_of_nodes(G1)\\nnumberofedge1 = nx.number_of_edges(G1)\\nnode1 =list(nx.nodes(G1))\\nprint(len(node1))\\nedge1 = nx.edges(G1)\\nprint(nx.info(G1))\\nfh.close()\\n'"
      ]
     },
     "execution_count": 11,
     "metadata": {},
     "output_type": "execute_result"
    }
   ],
   "source": [
    "'''\n",
    "import networkx as nx\n",
    "fh = open(r\"/Users/suweilin/Downloads/STRING_physical_network_AfterProcess.txt\", 'rb')\n",
    "G1 = nx.read_weighted_edgelist(fh,create_using=nx.DiGraph)\n",
    "degree1 = nx.degree(G1, nbunch=None, weight=True)\n",
    "numberofnode1 = nx.number_of_nodes(G1)\n",
    "numberofedge1 = nx.number_of_edges(G1)\n",
    "node1 =list(nx.nodes(G1))\n",
    "print(len(node1))\n",
    "edge1 = nx.edges(G1)\n",
    "print(nx.info(G1))\n",
    "fh.close()\n",
    "'''"
   ]
  },
  {
   "cell_type": "markdown",
   "metadata": {},
   "source": [
    "pandas dataframe to graph"
   ]
  },
  {
   "cell_type": "code",
   "execution_count": 12,
   "metadata": {
    "ExecuteTime": {
     "end_time": "2021-10-15T18:19:03.834013Z",
     "start_time": "2021-10-15T18:18:45.700602Z"
    }
   },
   "outputs": [
    {
     "name": "stdout",
     "output_type": "stream",
     "text": [
      "Name: \n",
      "Type: DiGraph\n",
      "Number of nodes: 19000\n",
      "Number of edges: 8683838\n",
      "Average in degree: 457.0441\n",
      "Average out degree: 457.0441\n"
     ]
    }
   ],
   "source": [
    "Graph_string_physical = nx.from_pandas_edgelist(df_string,source='protein1',target='protein2',create_using=nx.DiGraph())\n",
    "print(nx.info(Graph_string_physical))"
   ]
  },
  {
   "cell_type": "markdown",
   "metadata": {},
   "source": [
    "high confidence selected"
   ]
  },
  {
   "cell_type": "code",
   "execution_count": 13,
   "metadata": {
    "ExecuteTime": {
     "end_time": "2021-10-15T18:19:04.740763Z",
     "start_time": "2021-10-15T18:19:03.893272Z"
    }
   },
   "outputs": [
    {
     "name": "stdout",
     "output_type": "stream",
     "text": [
      "Name: \n",
      "Type: DiGraph\n",
      "Number of nodes: 7845\n",
      "Number of edges: 221372\n",
      "Average in degree:  28.2182\n",
      "Average out degree:  28.2182\n",
      "7845\n"
     ]
    }
   ],
   "source": [
    "Graph_string_physical_highconfidence = nx.from_pandas_edgelist(confidence_score_high,source = 'protein1', target = 'protein2', edge_attr=['percent'],create_using=nx.DiGraph())\n",
    "print(nx.info(Graph_string_physical_highconfidence))\n",
    "confidence_score_high_nodelist = list(nx.nodes(Graph_string_physical_highconfidence))\n",
    "print(len(confidence_score_high_nodelist))"
   ]
  },
  {
   "cell_type": "markdown",
   "metadata": {},
   "source": [
    "# transfer ID to different databas"
   ]
  },
  {
   "cell_type": "markdown",
   "metadata": {},
   "source": [
    "## STRING phycisal "
   ]
  },
  {
   "cell_type": "markdown",
   "metadata": {},
   "source": [
    "Ensembl protein to ensembl gene"
   ]
  },
  {
   "cell_type": "code",
   "execution_count": 14,
   "metadata": {
    "ExecuteTime": {
     "end_time": "2021-10-15T18:20:01.653596Z",
     "start_time": "2021-10-15T18:19:04.801095Z"
    }
   },
   "outputs": [
    {
     "name": "stdout",
     "output_type": "stream",
     "text": [
      "querying 1-1000...done.\n",
      "querying 1001-2000...done.\n",
      "querying 2001-3000...done.\n",
      "querying 3001-4000...done.\n",
      "querying 4001-5000...done.\n",
      "querying 5001-6000...done.\n",
      "querying 6001-7000...done.\n",
      "querying 7001-8000...done.\n",
      "querying 8001-9000...done.\n",
      "querying 9001-10000...done.\n",
      "querying 10001-11000...done.\n",
      "querying 11001-12000...done.\n",
      "querying 12001-13000...done.\n",
      "querying 13001-14000...done.\n",
      "querying 14001-15000...done.\n",
      "querying 15001-16000...done.\n",
      "querying 16001-17000...done.\n",
      "querying 17001-18000...done.\n",
      "querying 18001-19000...done.\n",
      "Finished.\n",
      "608 input query terms found no hit:\n",
      "\t['ENSP00000327585', 'ENSP00000332110', 'ENSP00000364964', 'ENSP00000321246', 'ENSP00000062104', 'ENS\n"
     ]
    }
   ],
   "source": [
    "mg = mygene.MyGeneInfo()\n",
    "results_string_physical= mg.querymany(physical_nodelist, scopes='ensembl.protein',fields = 'ensembl.gene',species='human',returnall=True)\n",
    "#19000個輸入，然後有608個找不到transfer gene id，但是這邊的數字，怎麼會比high confidence score的部分還要少..."
   ]
  },
  {
   "cell_type": "markdown",
   "metadata": {},
   "source": [
    "Ensembl protein to KEGG"
   ]
  },
  {
   "cell_type": "code",
   "execution_count": 15,
   "metadata": {
    "ExecuteTime": {
     "end_time": "2021-10-15T18:20:57.724238Z",
     "start_time": "2021-10-15T18:20:01.793861Z"
    }
   },
   "outputs": [
    {
     "name": "stdout",
     "output_type": "stream",
     "text": [
      "querying 1-1000...done.\n",
      "querying 1001-2000...done.\n",
      "querying 2001-3000...done.\n",
      "querying 3001-4000...done.\n",
      "querying 4001-5000...done.\n",
      "querying 5001-6000...done.\n",
      "querying 6001-7000...done.\n",
      "querying 7001-8000...done.\n",
      "querying 8001-9000...done.\n",
      "querying 9001-10000...done.\n",
      "querying 10001-11000...done.\n",
      "querying 11001-12000...done.\n",
      "querying 12001-13000...done.\n",
      "querying 13001-14000...done.\n",
      "querying 14001-15000...done.\n",
      "querying 15001-16000...done.\n",
      "querying 16001-17000...done.\n",
      "querying 17001-18000...done.\n",
      "querying 18001-19000...done.\n",
      "Finished.\n",
      "608 input query terms found no hit:\n",
      "\t['ENSP00000327585', 'ENSP00000332110', 'ENSP00000364964', 'ENSP00000321246', 'ENSP00000062104', 'ENS\n",
      "{'out':                     _id     _score  \\\n",
      "query                                \n",
      "ENSP00000376423    6700  22.414150   \n",
      "ENSP00000322915    9202  23.146717   \n",
      "ENSP00000380178    7326  22.414150   \n",
      "ENSP00000344401  389421  21.904642   \n",
      "ENSP00000248706   65997  22.414150   \n",
      "...                 ...        ...   \n",
      "ENSP00000349575  126308  21.833403   \n",
      "ENSP00000364691    9696  21.833403   \n",
      "ENSP00000276708   56169  21.515104   \n",
      "ENSP00000448998   66002  21.515104   \n",
      "ENSP00000386988  387707  21.833403   \n",
      "\n",
      "                                                      pathway.kegg  \\\n",
      "query                                                                \n",
      "ENSP00000376423                                                NaN   \n",
      "ENSP00000322915                                                NaN   \n",
      "ENSP00000380178  [{'id': 'hsa04120', 'name': 'Ubiquitin mediate...   \n",
      "ENSP00000344401                                                NaN   \n",
      "ENSP00000248706                                                NaN   \n",
      "...                                                            ...   \n",
      "ENSP00000349575                                                NaN   \n",
      "ENSP00000364691                                                NaN   \n",
      "ENSP00000276708                                                NaN   \n",
      "ENSP00000448998                                                NaN   \n",
      "ENSP00000386988                                                NaN   \n",
      "\n",
      "                pathway.kegg.id pathway.kegg.name notfound  \n",
      "query                                                       \n",
      "ENSP00000376423             NaN               NaN      NaN  \n",
      "ENSP00000322915             NaN               NaN      NaN  \n",
      "ENSP00000380178             NaN               NaN      NaN  \n",
      "ENSP00000344401             NaN               NaN      NaN  \n",
      "ENSP00000248706             NaN               NaN      NaN  \n",
      "...                         ...               ...      ...  \n",
      "ENSP00000349575             NaN               NaN      NaN  \n",
      "ENSP00000364691             NaN               NaN      NaN  \n",
      "ENSP00000276708             NaN               NaN      NaN  \n",
      "ENSP00000448998             NaN               NaN      NaN  \n",
      "ENSP00000386988             NaN               NaN      NaN  \n",
      "\n",
      "[19000 rows x 6 columns], 'dup': Empty DataFrame\n",
      "Columns: [query, duplicate hits]\n",
      "Index: [], 'missing':                query\n",
      "0    ENSP00000327585\n",
      "1    ENSP00000332110\n",
      "2    ENSP00000364964\n",
      "3    ENSP00000321246\n",
      "4    ENSP00000062104\n",
      "..               ...\n",
      "603  ENSP00000485589\n",
      "604  ENSP00000479206\n",
      "605  ENSP00000401701\n",
      "606  ENSP00000387091\n",
      "607  ENSP00000377970\n",
      "\n",
      "[608 rows x 1 columns]}\n"
     ]
    }
   ],
   "source": [
    "results_string_physical_kegg = mg.querymany(physical_nodelist, scopes='ensembl.protein',fields = 'pathway.kegg',species='human',returnall=True,as_dataframe=True,df_index=True,verbose=True)\n",
    "print(results_string_physical_kegg)"
   ]
  },
  {
   "cell_type": "code",
   "execution_count": 16,
   "metadata": {
    "ExecuteTime": {
     "end_time": "2021-10-15T18:21:53.263984Z",
     "start_time": "2021-10-15T18:20:57.876700Z"
    }
   },
   "outputs": [
    {
     "name": "stdout",
     "output_type": "stream",
     "text": [
      "querying 1-1000...done.\n",
      "querying 1001-2000...done.\n",
      "querying 2001-3000...done.\n",
      "querying 3001-4000...done.\n",
      "querying 4001-5000...done.\n",
      "querying 5001-6000...done.\n",
      "querying 6001-7000...done.\n",
      "querying 7001-8000...done.\n",
      "querying 8001-9000...done.\n",
      "querying 9001-10000...done.\n",
      "querying 10001-11000...done.\n",
      "querying 11001-12000...done.\n",
      "querying 12001-13000...done.\n",
      "querying 13001-14000...done.\n",
      "querying 14001-15000...done.\n",
      "querying 15001-16000...done.\n",
      "querying 16001-17000...done.\n",
      "querying 17001-18000...done.\n",
      "querying 18001-19000...done.\n",
      "Finished.\n",
      "608 input query terms found no hit:\n",
      "\t['ENSP00000327585', 'ENSP00000332110', 'ENSP00000364964', 'ENSP00000321246', 'ENSP00000062104', 'ENS\n",
      "{'out':                     _id     _score  \\\n",
      "query                                \n",
      "ENSP00000376423    6700  22.414150   \n",
      "ENSP00000322915    9202  23.146717   \n",
      "ENSP00000380178    7326  22.414150   \n",
      "ENSP00000344401  389421  21.904642   \n",
      "ENSP00000248706   65997  22.414150   \n",
      "...                 ...        ...   \n",
      "ENSP00000349575  126308  21.833403   \n",
      "ENSP00000364691    9696  21.833403   \n",
      "ENSP00000276708   56169  21.515104   \n",
      "ENSP00000448998   66002  21.515104   \n",
      "ENSP00000386988  387707  21.833403   \n",
      "\n",
      "                                                      pathway.kegg  \\\n",
      "query                                                                \n",
      "ENSP00000376423                                                NaN   \n",
      "ENSP00000322915                                                NaN   \n",
      "ENSP00000380178  [{'id': 'hsa04120'}, {'id': 'hsa04141'}, {'id'...   \n",
      "ENSP00000344401                                                NaN   \n",
      "ENSP00000248706                                                NaN   \n",
      "...                                                            ...   \n",
      "ENSP00000349575                                                NaN   \n",
      "ENSP00000364691                                                NaN   \n",
      "ENSP00000276708                                                NaN   \n",
      "ENSP00000448998                                                NaN   \n",
      "ENSP00000386988                                                NaN   \n",
      "\n",
      "                pathway.kegg.id notfound  \n",
      "query                                     \n",
      "ENSP00000376423             NaN      NaN  \n",
      "ENSP00000322915             NaN      NaN  \n",
      "ENSP00000380178             NaN      NaN  \n",
      "ENSP00000344401             NaN      NaN  \n",
      "ENSP00000248706             NaN      NaN  \n",
      "...                         ...      ...  \n",
      "ENSP00000349575             NaN      NaN  \n",
      "ENSP00000364691             NaN      NaN  \n",
      "ENSP00000276708             NaN      NaN  \n",
      "ENSP00000448998             NaN      NaN  \n",
      "ENSP00000386988             NaN      NaN  \n",
      "\n",
      "[19000 rows x 5 columns], 'dup': Empty DataFrame\n",
      "Columns: [query, duplicate hits]\n",
      "Index: [], 'missing':                query\n",
      "0    ENSP00000327585\n",
      "1    ENSP00000332110\n",
      "2    ENSP00000364964\n",
      "3    ENSP00000321246\n",
      "4    ENSP00000062104\n",
      "..               ...\n",
      "603  ENSP00000485589\n",
      "604  ENSP00000479206\n",
      "605  ENSP00000401701\n",
      "606  ENSP00000387091\n",
      "607  ENSP00000377970\n",
      "\n",
      "[608 rows x 1 columns]}\n"
     ]
    }
   ],
   "source": [
    "results_string_physical_kegg_id = mg.querymany(physical_nodelist, scopes='ensembl.protein',fields = 'pathway.kegg.id',species='human',returnall=True,as_dataframe=True,df_index=True,verbose=True)\n",
    "print(results_string_physical_kegg_id)"
   ]
  },
  {
   "cell_type": "markdown",
   "metadata": {},
   "source": [
    "Ensembl protein to GO"
   ]
  },
  {
   "cell_type": "code",
   "execution_count": 17,
   "metadata": {
    "ExecuteTime": {
     "end_time": "2021-10-15T18:23:09.181164Z",
     "start_time": "2021-10-15T18:21:53.429627Z"
    }
   },
   "outputs": [
    {
     "name": "stdout",
     "output_type": "stream",
     "text": [
      "querying 1-1000...done.\n",
      "querying 1001-2000...done.\n",
      "querying 2001-3000...done.\n",
      "querying 3001-4000...done.\n",
      "querying 4001-5000...done.\n",
      "querying 5001-6000...done.\n",
      "querying 6001-7000...done.\n",
      "querying 7001-8000...done.\n",
      "querying 8001-9000...done.\n",
      "querying 9001-10000...done.\n",
      "querying 10001-11000...done.\n",
      "querying 11001-12000...done.\n",
      "querying 12001-13000...done.\n",
      "querying 13001-14000...done.\n",
      "querying 14001-15000...done.\n",
      "querying 15001-16000...done.\n",
      "querying 16001-17000...done.\n",
      "querying 17001-18000...done.\n",
      "querying 18001-19000...done.\n",
      "Finished.\n",
      "608 input query terms found no hit:\n",
      "\t['ENSP00000327585', 'ENSP00000332110', 'ENSP00000364964', 'ENSP00000321246', 'ENSP00000062104', 'ENS\n",
      "{'out':                     _id     _score  \\\n",
      "query                                \n",
      "ENSP00000376423    6700  22.419800   \n",
      "ENSP00000322915    9202  22.425173   \n",
      "ENSP00000380178    7326  22.419800   \n",
      "ENSP00000344401  389421  21.904642   \n",
      "ENSP00000248706   65997  22.419800   \n",
      "...                 ...        ...   \n",
      "ENSP00000349575  126308  21.903640   \n",
      "ENSP00000364691    9696  21.833403   \n",
      "ENSP00000276708   56169  21.858795   \n",
      "ENSP00000448998   66002  21.515104   \n",
      "ENSP00000386988  387707  22.425173   \n",
      "\n",
      "                                                             go.BP  \\\n",
      "query                                                                \n",
      "ENSP00000376423  [{'evidence': 'NAS', 'gocategory': 'BP', 'id':...   \n",
      "ENSP00000322915  [{'evidence': 'IMP', 'gocategory': 'BP', 'id':...   \n",
      "ENSP00000380178  [{'evidence': 'IBA', 'gocategory': 'BP', 'id':...   \n",
      "ENSP00000344401  [{'evidence': 'IMP', 'gocategory': 'BP', 'id':...   \n",
      "ENSP00000248706                                                NaN   \n",
      "...                                                            ...   \n",
      "ENSP00000349575  [{'evidence': 'IBA', 'gocategory': 'BP', 'id':...   \n",
      "ENSP00000364691  [{'evidence': 'IDA', 'gocategory': 'BP', 'id':...   \n",
      "ENSP00000276708  [{'evidence': 'ND', 'gocategory': 'BP', 'id': ...   \n",
      "ENSP00000448998  [{'evidence': 'ISS', 'gocategory': 'BP', 'id':...   \n",
      "ENSP00000386988  [{'evidence': 'IBA', 'gocategory': 'BP', 'id':...   \n",
      "\n",
      "                                                             go.CC  \\\n",
      "query                                                                \n",
      "ENSP00000376423  [{'evidence': 'NAS', 'gocategory': 'CC', 'id':...   \n",
      "ENSP00000322915                                                NaN   \n",
      "ENSP00000380178  [{'evidence': 'TAS', 'gocategory': 'CC', 'id':...   \n",
      "ENSP00000344401  [{'evidence': 'IDA', 'gocategory': 'CC', 'id':...   \n",
      "ENSP00000248706                                                NaN   \n",
      "...                                                            ...   \n",
      "ENSP00000349575  [{'evidence': 'IBA', 'gocategory': 'CC', 'id':...   \n",
      "ENSP00000364691  [{'evidence': 'IEA', 'gocategory': 'CC', 'id':...   \n",
      "ENSP00000276708  [{'evidence': 'IDA', 'gocategory': 'CC', 'id':...   \n",
      "ENSP00000448998  [{'evidence': 'ISS', 'gocategory': 'CC', 'id':...   \n",
      "ENSP00000386988                                                NaN   \n",
      "\n",
      "                go.MF.category go.MF.evidence    go.MF.id go.MF.pubmed  \\\n",
      "query                                                                    \n",
      "ENSP00000376423             MF            IPI  GO:0005515     18155796   \n",
      "ENSP00000322915            NaN            NaN         NaN          NaN   \n",
      "ENSP00000380178            NaN            NaN         NaN          NaN   \n",
      "ENSP00000344401            NaN            NaN         NaN          NaN   \n",
      "ENSP00000248706            NaN            NaN         NaN          NaN   \n",
      "...                        ...            ...         ...          ...   \n",
      "ENSP00000349575            NaN            NaN         NaN          NaN   \n",
      "ENSP00000364691            NaN            NaN         NaN          NaN   \n",
      "ENSP00000276708            NaN            NaN         NaN          NaN   \n",
      "ENSP00000448998            NaN            NaN         NaN          NaN   \n",
      "ENSP00000386988            NaN            NaN         NaN          NaN   \n",
      "\n",
      "                go.MF.qualifier       go.MF.term  ... go.BP.qualifier  \\\n",
      "query                                             ...                   \n",
      "ENSP00000376423         enables  protein binding  ...             NaN   \n",
      "ENSP00000322915             NaN              NaN  ...             NaN   \n",
      "ENSP00000380178             NaN              NaN  ...             NaN   \n",
      "ENSP00000344401             NaN              NaN  ...             NaN   \n",
      "ENSP00000248706             NaN              NaN  ...     involved_in   \n",
      "...                         ...              ...  ...             ...   \n",
      "ENSP00000349575             NaN              NaN  ...             NaN   \n",
      "ENSP00000364691             NaN              NaN  ...             NaN   \n",
      "ENSP00000276708             NaN              NaN  ...             NaN   \n",
      "ENSP00000448998             NaN              NaN  ...             NaN   \n",
      "ENSP00000386988             NaN              NaN  ...             NaN   \n",
      "\n",
      "                                                        go.BP.term  \\\n",
      "query                                                                \n",
      "ENSP00000376423                                                NaN   \n",
      "ENSP00000322915                                                NaN   \n",
      "ENSP00000380178                                                NaN   \n",
      "ENSP00000344401                                                NaN   \n",
      "ENSP00000248706  negative regulation of transforming growth fac...   \n",
      "...                                                            ...   \n",
      "ENSP00000349575                                                NaN   \n",
      "ENSP00000364691                                                NaN   \n",
      "ENSP00000276708                                                NaN   \n",
      "ENSP00000448998                                                NaN   \n",
      "ENSP00000386988                                                NaN   \n",
      "\n",
      "                go.CC.evidence go.CC.gocategory    go.CC.id go.CC.pubmed  \\\n",
      "query                                                                      \n",
      "ENSP00000376423            NaN              NaN         NaN          NaN   \n",
      "ENSP00000322915            NaN              NaN         NaN          NaN   \n",
      "ENSP00000380178            NaN              NaN         NaN          NaN   \n",
      "ENSP00000344401            NaN              NaN         NaN          NaN   \n",
      "ENSP00000248706            NaN              NaN         NaN          NaN   \n",
      "...                        ...              ...         ...          ...   \n",
      "ENSP00000349575            NaN              NaN         NaN          NaN   \n",
      "ENSP00000364691            NaN              NaN         NaN          NaN   \n",
      "ENSP00000276708            NaN              NaN         NaN          NaN   \n",
      "ENSP00000448998            NaN              NaN         NaN          NaN   \n",
      "ENSP00000386988            IBA               CC  GO:0035869     21873635   \n",
      "\n",
      "                go.CC.qualifier               go.CC.term go.BP.pubmed notfound  \n",
      "query                                                                           \n",
      "ENSP00000376423             NaN                      NaN          NaN      NaN  \n",
      "ENSP00000322915             NaN                      NaN          NaN      NaN  \n",
      "ENSP00000380178             NaN                      NaN          NaN      NaN  \n",
      "ENSP00000344401             NaN                      NaN          NaN      NaN  \n",
      "ENSP00000248706             NaN                      NaN          NaN      NaN  \n",
      "...                         ...                      ...          ...      ...  \n",
      "ENSP00000349575             NaN                      NaN          NaN      NaN  \n",
      "ENSP00000364691             NaN                      NaN          NaN      NaN  \n",
      "ENSP00000276708             NaN                      NaN          NaN      NaN  \n",
      "ENSP00000448998             NaN                      NaN          NaN      NaN  \n",
      "ENSP00000386988    is_active_in  ciliary transition zone          NaN      NaN  \n",
      "\n",
      "[19000 rows x 24 columns], 'dup': Empty DataFrame\n",
      "Columns: [query, duplicate hits]\n",
      "Index: [], 'missing':                query\n",
      "0    ENSP00000327585\n",
      "1    ENSP00000332110\n",
      "2    ENSP00000364964\n",
      "3    ENSP00000321246\n",
      "4    ENSP00000062104\n",
      "..               ...\n",
      "603  ENSP00000485589\n",
      "604  ENSP00000479206\n",
      "605  ENSP00000401701\n",
      "606  ENSP00000387091\n",
      "607  ENSP00000377970\n",
      "\n",
      "[608 rows x 1 columns]}\n"
     ]
    }
   ],
   "source": [
    "results_string_physical_go = mg.querymany(physical_nodelist, scopes='ensembl.protein',fields = 'go',species='human',returnall=True,as_dataframe=True,df_index=True,verbose=True)\n",
    "print(results_string_physical_go)"
   ]
  },
  {
   "cell_type": "markdown",
   "metadata": {},
   "source": [
    "Ensembl protein to Reactome"
   ]
  },
  {
   "cell_type": "code",
   "execution_count": 18,
   "metadata": {
    "ExecuteTime": {
     "end_time": "2021-10-15T18:24:10.193155Z",
     "start_time": "2021-10-15T18:23:09.427466Z"
    }
   },
   "outputs": [
    {
     "name": "stdout",
     "output_type": "stream",
     "text": [
      "querying 1-1000...done.\n",
      "querying 1001-2000...done.\n",
      "querying 2001-3000...done.\n",
      "querying 3001-4000...done.\n",
      "querying 4001-5000...done.\n",
      "querying 5001-6000...done.\n",
      "querying 6001-7000...done.\n",
      "querying 7001-8000...done.\n",
      "querying 8001-9000...done.\n",
      "querying 9001-10000...done.\n",
      "querying 10001-11000...done.\n",
      "querying 11001-12000...done.\n",
      "querying 12001-13000...done.\n",
      "querying 13001-14000...done.\n",
      "querying 14001-15000...done.\n",
      "querying 15001-16000...done.\n",
      "querying 16001-17000...done.\n",
      "querying 17001-18000...done.\n",
      "querying 18001-19000...done.\n",
      "Finished.\n",
      "608 input query terms found no hit:\n",
      "\t['ENSP00000327585', 'ENSP00000332110', 'ENSP00000364964', 'ENSP00000321246', 'ENSP00000062104', 'ENS\n",
      "{'out':                     _id     _score  \\\n",
      "query                                \n",
      "ENSP00000376423    6700  22.419800   \n",
      "ENSP00000322915    9202  23.146717   \n",
      "ENSP00000380178    7326  22.419800   \n",
      "ENSP00000344401  389421  21.469257   \n",
      "ENSP00000248706   65997  22.419800   \n",
      "...                 ...        ...   \n",
      "ENSP00000349575  126308  21.833403   \n",
      "ENSP00000364691    9696  21.833403   \n",
      "ENSP00000276708   56169  21.515104   \n",
      "ENSP00000448998   66002  21.515104   \n",
      "ENSP00000386988  387707  21.833403   \n",
      "\n",
      "                                                  pathway.reactome notfound  \\\n",
      "query                                                                         \n",
      "ENSP00000376423  [{'id': 'R-HSA-1266738'}, {'id': 'R-HSA-680556...      NaN   \n",
      "ENSP00000322915                                                NaN      NaN   \n",
      "ENSP00000380178  [{'id': 'R-HSA-1280218'}, {'id': 'R-HSA-168256...      NaN   \n",
      "ENSP00000344401                                                NaN      NaN   \n",
      "ENSP00000248706                                                NaN      NaN   \n",
      "...                                                            ...      ...   \n",
      "ENSP00000349575                                                NaN      NaN   \n",
      "ENSP00000364691                                                NaN      NaN   \n",
      "ENSP00000276708                                                NaN      NaN   \n",
      "ENSP00000448998  [{'id': 'R-HSA-1430728'}, {'id': 'R-HSA-211859...      NaN   \n",
      "ENSP00000386988                                                NaN      NaN   \n",
      "\n",
      "                pathway.reactome.id  \n",
      "query                                \n",
      "ENSP00000376423                 NaN  \n",
      "ENSP00000322915                 NaN  \n",
      "ENSP00000380178                 NaN  \n",
      "ENSP00000344401                 NaN  \n",
      "ENSP00000248706                 NaN  \n",
      "...                             ...  \n",
      "ENSP00000349575                 NaN  \n",
      "ENSP00000364691                 NaN  \n",
      "ENSP00000276708                 NaN  \n",
      "ENSP00000448998                 NaN  \n",
      "ENSP00000386988                 NaN  \n",
      "\n",
      "[19000 rows x 5 columns], 'dup': Empty DataFrame\n",
      "Columns: [query, duplicate hits]\n",
      "Index: [], 'missing':                query\n",
      "0    ENSP00000327585\n",
      "1    ENSP00000332110\n",
      "2    ENSP00000364964\n",
      "3    ENSP00000321246\n",
      "4    ENSP00000062104\n",
      "..               ...\n",
      "603  ENSP00000485589\n",
      "604  ENSP00000479206\n",
      "605  ENSP00000401701\n",
      "606  ENSP00000387091\n",
      "607  ENSP00000377970\n",
      "\n",
      "[608 rows x 1 columns]}\n"
     ]
    }
   ],
   "source": [
    "results_string_physical_reactome = mg.querymany(physical_nodelist, scopes='ensembl.protein',fields = 'pathway.reactome.id',species='human',returnall=True,as_dataframe=True,df_index=True,verbose=True)\n",
    "print(results_string_physical_reactome)"
   ]
  },
  {
   "cell_type": "markdown",
   "metadata": {
    "heading_collapsed": true
   },
   "source": [
    "## STRING phycial high confidence"
   ]
  },
  {
   "cell_type": "markdown",
   "metadata": {
    "hidden": true
   },
   "source": [
    "ensembl protein to ensembl gene"
   ]
  },
  {
   "cell_type": "code",
   "execution_count": null,
   "metadata": {
    "hidden": true
   },
   "outputs": [],
   "source": [
    "#confidence_score_high_nodelist = set(np.append(confidence_score_high.protein1.unique(),confidence_score_high.protein2.unique()))\n",
    "confidence_score_high_nodelist = list(nx.nodes(Graph_string_physical_highconfidence))\n",
    "mg = mygene.MyGeneInfo()\n",
    "results_high= mg.querymany(confidence_score_high_nodelist, scopes='ensembl.protein',fields = 'ensembl.gene',species='human',returnall=True,as_dataframe=True)\n",
    "print(results_high)"
   ]
  },
  {
   "cell_type": "markdown",
   "metadata": {
    "hidden": true
   },
   "source": [
    "Ensembl protein to KEGG"
   ]
  },
  {
   "cell_type": "code",
   "execution_count": null,
   "metadata": {
    "hidden": true
   },
   "outputs": [],
   "source": [
    "results_high_kegg= mg.querymany(confidence_score_high_nodelist, scopes='ensembl.protein',fields = 'pathway.kegg',species='human',returnall=True,as_dataframe=True,df_index=True,verbose=True)\n",
    "print(results_high_kegg)"
   ]
  },
  {
   "cell_type": "markdown",
   "metadata": {
    "hidden": true
   },
   "source": [
    "Ensembel protein to GO"
   ]
  },
  {
   "cell_type": "code",
   "execution_count": null,
   "metadata": {
    "hidden": true
   },
   "outputs": [],
   "source": [
    "results_high_go= mg.querymany(confidence_score_high_nodelist, scopes='ensembl.protein',fields = 'go',species='human',returnall=True,as_dataframe=True,df_index=True,verbose=True)\n",
    "print(results_high_go)"
   ]
  },
  {
   "cell_type": "markdown",
   "metadata": {
    "hidden": true
   },
   "source": [
    "Ensembl protein to Reactome"
   ]
  },
  {
   "cell_type": "code",
   "execution_count": null,
   "metadata": {
    "hidden": true
   },
   "outputs": [],
   "source": [
    "results_high_reactome= mg.querymany(confidence_score_high_nodelist, scopes='ensembl.protein',fields = 'reactome',species='human',returnall=True,as_dataframe=True,df_index=True,verbose=True)\n",
    "print(results_high_rectome)"
   ]
  },
  {
   "cell_type": "markdown",
   "metadata": {},
   "source": [
    "# extract KEGG id"
   ]
  },
  {
   "cell_type": "markdown",
   "metadata": {},
   "source": [
    "## STRING physical network with kegg"
   ]
  },
  {
   "cell_type": "code",
   "execution_count": 22,
   "metadata": {
    "ExecuteTime": {
     "end_time": "2021-10-15T18:24:36.155216Z",
     "start_time": "2021-10-15T18:24:36.145273Z"
    }
   },
   "outputs": [
    {
     "name": "stdout",
     "output_type": "stream",
     "text": [
      "{'out':                     _id     _score  \\\n",
      "query                                \n",
      "ENSP00000376423    6700  22.414150   \n",
      "ENSP00000322915    9202  23.146717   \n",
      "ENSP00000380178    7326  22.414150   \n",
      "ENSP00000344401  389421  21.904642   \n",
      "ENSP00000248706   65997  22.414150   \n",
      "...                 ...        ...   \n",
      "ENSP00000349575  126308  21.833403   \n",
      "ENSP00000364691    9696  21.833403   \n",
      "ENSP00000276708   56169  21.515104   \n",
      "ENSP00000448998   66002  21.515104   \n",
      "ENSP00000386988  387707  21.833403   \n",
      "\n",
      "                                                      pathway.kegg  \\\n",
      "query                                                                \n",
      "ENSP00000376423                                                NaN   \n",
      "ENSP00000322915                                                NaN   \n",
      "ENSP00000380178  [{'id': 'hsa04120', 'name': 'Ubiquitin mediate...   \n",
      "ENSP00000344401                                                NaN   \n",
      "ENSP00000248706                                                NaN   \n",
      "...                                                            ...   \n",
      "ENSP00000349575                                                NaN   \n",
      "ENSP00000364691                                                NaN   \n",
      "ENSP00000276708                                                NaN   \n",
      "ENSP00000448998                                                NaN   \n",
      "ENSP00000386988                                                NaN   \n",
      "\n",
      "                pathway.kegg.id pathway.kegg.name notfound  \n",
      "query                                                       \n",
      "ENSP00000376423             NaN               NaN      NaN  \n",
      "ENSP00000322915             NaN               NaN      NaN  \n",
      "ENSP00000380178             NaN               NaN      NaN  \n",
      "ENSP00000344401             NaN               NaN      NaN  \n",
      "ENSP00000248706             NaN               NaN      NaN  \n",
      "...                         ...               ...      ...  \n",
      "ENSP00000349575             NaN               NaN      NaN  \n",
      "ENSP00000364691             NaN               NaN      NaN  \n",
      "ENSP00000276708             NaN               NaN      NaN  \n",
      "ENSP00000448998             NaN               NaN      NaN  \n",
      "ENSP00000386988             NaN               NaN      NaN  \n",
      "\n",
      "[19000 rows x 6 columns], 'dup': Empty DataFrame\n",
      "Columns: [query, duplicate hits]\n",
      "Index: [], 'missing':                query\n",
      "0    ENSP00000327585\n",
      "1    ENSP00000332110\n",
      "2    ENSP00000364964\n",
      "3    ENSP00000321246\n",
      "4    ENSP00000062104\n",
      "..               ...\n",
      "603  ENSP00000485589\n",
      "604  ENSP00000479206\n",
      "605  ENSP00000401701\n",
      "606  ENSP00000387091\n",
      "607  ENSP00000377970\n",
      "\n",
      "[608 rows x 1 columns]}\n"
     ]
    }
   ],
   "source": [
    "print(results_string_physical_kegg)"
   ]
  },
  {
   "cell_type": "code",
   "execution_count": 23,
   "metadata": {
    "ExecuteTime": {
     "end_time": "2021-10-15T18:24:37.521133Z",
     "start_time": "2021-10-15T18:24:37.517231Z"
    }
   },
   "outputs": [
    {
     "name": "stdout",
     "output_type": "stream",
     "text": [
      "query\n",
      "ENSP00000376423    NaN\n",
      "ENSP00000322915    NaN\n",
      "ENSP00000380178    NaN\n",
      "ENSP00000344401    NaN\n",
      "ENSP00000248706    NaN\n",
      "                  ... \n",
      "ENSP00000349575    NaN\n",
      "ENSP00000364691    NaN\n",
      "ENSP00000276708    NaN\n",
      "ENSP00000448998    NaN\n",
      "ENSP00000386988    NaN\n",
      "Name: pathway.kegg.id, Length: 19000, dtype: object\n"
     ]
    }
   ],
   "source": [
    "print(results_string_physical_kegg['out']['pathway.kegg.id'])"
   ]
  },
  {
   "cell_type": "code",
   "execution_count": 24,
   "metadata": {
    "ExecuteTime": {
     "end_time": "2021-10-15T18:24:38.359232Z",
     "start_time": "2021-10-15T18:24:38.328785Z"
    }
   },
   "outputs": [
    {
     "name": "stdout",
     "output_type": "stream",
     "text": [
      "<class 'pandas.core.frame.DataFrame'>\n",
      "<class 'pandas.core.series.Series'>\n",
      "<class 'pandas.core.frame.DataFrame'>\n",
      "RangeIndex: 19000 entries, 0 to 18999\n",
      "Data columns (total 7 columns):\n",
      " #   Column             Non-Null Count  Dtype  \n",
      "---  ------             --------------  -----  \n",
      " 0   query              19000 non-null  object \n",
      " 1   _id                18392 non-null  object \n",
      " 2   _score             18392 non-null  float64\n",
      " 3   pathway_kegg       4035 non-null   object \n",
      " 4   pathway_kegg_id    3450 non-null   object \n",
      " 5   pathway_kegg_name  3450 non-null   object \n",
      " 6   notfound           608 non-null    object \n",
      "dtypes: float64(1), object(6)\n",
      "memory usage: 1.0+ MB\n",
      "None\n"
     ]
    },
    {
     "ename": "NameError",
     "evalue": "name 'string_phycial_kegg' is not defined",
     "output_type": "error",
     "traceback": [
      "\u001b[0;31m---------------------------------------------------------------------------\u001b[0m",
      "\u001b[0;31mNameError\u001b[0m                                 Traceback (most recent call last)",
      "\u001b[0;32m<ipython-input-24-826b8b40527b>\u001b[0m in \u001b[0;36m<module>\u001b[0;34m\u001b[0m\n\u001b[1;32m      9\u001b[0m \u001b[0;31m#做rename，是為了後面比較好分析\u001b[0m\u001b[0;34m\u001b[0m\u001b[0;34m\u001b[0m\u001b[0;34m\u001b[0m\u001b[0m\n\u001b[1;32m     10\u001b[0m \u001b[0mprint\u001b[0m\u001b[0;34m(\u001b[0m\u001b[0mstring_physical_kegg\u001b[0m\u001b[0;34m.\u001b[0m\u001b[0minfo\u001b[0m\u001b[0;34m(\u001b[0m\u001b[0;34m)\u001b[0m\u001b[0;34m)\u001b[0m\u001b[0;34m\u001b[0m\u001b[0;34m\u001b[0m\u001b[0m\n\u001b[0;32m---> 11\u001b[0;31m \u001b[0mprint\u001b[0m\u001b[0;34m(\u001b[0m\u001b[0mstring_phycial_kegg\u001b[0m\u001b[0;34m.\u001b[0m\u001b[0mdescribe\u001b[0m\u001b[0;34m(\u001b[0m\u001b[0;34m)\u001b[0m\u001b[0;34m)\u001b[0m\u001b[0;34m\u001b[0m\u001b[0;34m\u001b[0m\u001b[0m\n\u001b[0m\u001b[1;32m     12\u001b[0m \u001b[0mstring_phycial_kegg\u001b[0m\u001b[0;34m[\u001b[0m\u001b[0;34m:\u001b[0m\u001b[0;36m5\u001b[0m\u001b[0;34m]\u001b[0m\u001b[0;34m\u001b[0m\u001b[0;34m\u001b[0m\u001b[0m\n",
      "\u001b[0;31mNameError\u001b[0m: name 'string_phycial_kegg' is not defined"
     ]
    }
   ],
   "source": [
    "print(type(results_string_physical_kegg['out']))\n",
    "print(type(results_string_physical_kegg['out']['pathway.kegg.id']))\n",
    "#inbiomap_kegg=results_inbiomap_kegg['out']['pathway.kegg.id'].to_frame()\n",
    "string_physical_kegg = results_string_physical_kegg['out'].reset_index()\n",
    "#inbiomap_kegg = inbiomap_kegg.reset_index()\n",
    "#這邊會需要這一個method是因為丟入的geneid 會變成index，會因此不好取用裡面的值，所以使用reset index來重置\n",
    "#print(type(inbiomap_kegg))\n",
    "string_physical_kegg = string_physical_kegg.rename(mapper={'pathway.kegg':'pathway_kegg','pathway.kegg.id':'pathway_kegg_id','pathway.kegg.name':'pathway_kegg_name'},axis=1)\n",
    "#做rename，是為了後面比較好分析\n",
    "print(string_physical_kegg.info())\n",
    "print(string_phycial_kegg.describe())\n",
    "string_phycial_kegg[:5]"
   ]
  },
  {
   "cell_type": "markdown",
   "metadata": {},
   "source": [
    "check kegg id"
   ]
  },
  {
   "cell_type": "code",
   "execution_count": 25,
   "metadata": {
    "ExecuteTime": {
     "end_time": "2021-10-15T18:24:39.394518Z",
     "start_time": "2021-10-15T18:24:39.390150Z"
    }
   },
   "outputs": [
    {
     "name": "stdout",
     "output_type": "stream",
     "text": [
      "274\n"
     ]
    }
   ],
   "source": [
    "#print(inbiomap_kegg['pathway.kegg.id'])\n",
    "string_physical_kegg_id = string_physical_kegg['pathway_kegg_id'].unique()\n",
    "print(len(string_physical_kegg_id))\n",
    "#print(inbiomap_kegg_id)"
   ]
  },
  {
   "cell_type": "markdown",
   "metadata": {},
   "source": [
    " extract needed dataframe"
   ]
  },
  {
   "cell_type": "code",
   "execution_count": 26,
   "metadata": {
    "ExecuteTime": {
     "end_time": "2021-10-15T18:24:40.304134Z",
     "start_time": "2021-10-15T18:24:40.295871Z"
    }
   },
   "outputs": [
    {
     "name": "stdout",
     "output_type": "stream",
     "text": [
      "                 query pathway_kegg_id\n",
      "0      ENSP00000376423             NaN\n",
      "1      ENSP00000322915             NaN\n",
      "2      ENSP00000380178             NaN\n",
      "3      ENSP00000344401             NaN\n",
      "4      ENSP00000248706             NaN\n",
      "...                ...             ...\n",
      "18995  ENSP00000349575             NaN\n",
      "18996  ENSP00000364691             NaN\n",
      "18997  ENSP00000276708             NaN\n",
      "18998  ENSP00000448998             NaN\n",
      "18999  ENSP00000386988             NaN\n",
      "\n",
      "[19000 rows x 2 columns]\n"
     ]
    }
   ],
   "source": [
    "string_physical_kegg_pathwaylist = string_physical_kegg[['query','pathway_kegg_id']]\n",
    "print(string_physical_kegg_pathwaylist)"
   ]
  },
  {
   "cell_type": "markdown",
   "metadata": {},
   "source": [
    "address nan"
   ]
  },
  {
   "cell_type": "code",
   "execution_count": 27,
   "metadata": {
    "ExecuteTime": {
     "end_time": "2021-10-15T18:24:41.555676Z",
     "start_time": "2021-10-15T18:24:41.203614Z"
    }
   },
   "outputs": [
    {
     "name": "stdout",
     "output_type": "stream",
     "text": [
      "             query pathway_kegg_id\n",
      "0  ENSP00000376423               0\n",
      "1  ENSP00000322915               0\n",
      "2  ENSP00000380178               0\n"
     ]
    },
    {
     "name": "stderr",
     "output_type": "stream",
     "text": [
      "<ipython-input-27-8da98129adb7>:1: SettingWithCopyWarning: \n",
      "A value is trying to be set on a copy of a slice from a DataFrame.\n",
      "Try using .loc[row_indexer,col_indexer] = value instead\n",
      "\n",
      "See the caveats in the documentation: https://pandas.pydata.org/pandas-docs/stable/user_guide/indexing.html#returning-a-view-versus-a-copy\n",
      "  string_physical_kegg_pathwaylist['pathway_kegg_id'] = string_physical_kegg_pathwaylist['pathway_kegg_id'].map(np.nan_to_num)\n"
     ]
    }
   ],
   "source": [
    "string_physical_kegg_pathwaylist['pathway_kegg_id'] = string_physical_kegg_pathwaylist['pathway_kegg_id'].map(np.nan_to_num)\n",
    "print(string_physical_kegg_pathwaylist[:3])"
   ]
  },
  {
   "cell_type": "markdown",
   "metadata": {},
   "source": [
    "eliminate nan"
   ]
  },
  {
   "cell_type": "code",
   "execution_count": 28,
   "metadata": {
    "ExecuteTime": {
     "end_time": "2021-10-15T18:24:42.950127Z",
     "start_time": "2021-10-15T18:24:42.931399Z"
    }
   },
   "outputs": [
    {
     "name": "stdout",
     "output_type": "stream",
     "text": [
      "15550\n"
     ]
    }
   ],
   "source": [
    "i = string_physical_kegg_pathwaylist[string_physical_kegg_pathwaylist.pathway_kegg_id == 0 ].index\n",
    "print(len(i))\n",
    "string_physical_kegg_pathwaylist = string_physical_kegg_pathwaylist.drop(i)"
   ]
  },
  {
   "cell_type": "markdown",
   "metadata": {},
   "source": [
    "### construct heterogeneous network"
   ]
  },
  {
   "cell_type": "markdown",
   "metadata": {},
   "source": [
    "pd_dataframe_inbiomap_and_kegg"
   ]
  },
  {
   "cell_type": "code",
   "execution_count": 29,
   "metadata": {
    "ExecuteTime": {
     "end_time": "2021-10-15T18:24:47.764020Z",
     "start_time": "2021-10-15T18:24:47.753977Z"
    }
   },
   "outputs": [
    {
     "data": {
      "text/html": [
       "<div>\n",
       "<style scoped>\n",
       "    .dataframe tbody tr th:only-of-type {\n",
       "        vertical-align: middle;\n",
       "    }\n",
       "\n",
       "    .dataframe tbody tr th {\n",
       "        vertical-align: top;\n",
       "    }\n",
       "\n",
       "    .dataframe thead th {\n",
       "        text-align: right;\n",
       "    }\n",
       "</style>\n",
       "<table border=\"1\" class=\"dataframe\">\n",
       "  <thead>\n",
       "    <tr style=\"text-align: right;\">\n",
       "      <th></th>\n",
       "      <th>protein1</th>\n",
       "      <th>protein2</th>\n",
       "    </tr>\n",
       "  </thead>\n",
       "  <tbody>\n",
       "    <tr>\n",
       "      <th>8</th>\n",
       "      <td>ENSP00000297071</td>\n",
       "      <td>hsa03040</td>\n",
       "    </tr>\n",
       "    <tr>\n",
       "      <th>12</th>\n",
       "      <td>ENSP00000220966</td>\n",
       "      <td>hsa00330</td>\n",
       "    </tr>\n",
       "    <tr>\n",
       "      <th>19</th>\n",
       "      <td>ENSP00000340736</td>\n",
       "      <td>hsa00500</td>\n",
       "    </tr>\n",
       "    <tr>\n",
       "      <th>22</th>\n",
       "      <td>ENSP00000385470</td>\n",
       "      <td>hsa04060</td>\n",
       "    </tr>\n",
       "    <tr>\n",
       "      <th>27</th>\n",
       "      <td>ENSP00000230085</td>\n",
       "      <td>hsa04144</td>\n",
       "    </tr>\n",
       "    <tr>\n",
       "      <th>...</th>\n",
       "      <td>...</td>\n",
       "      <td>...</td>\n",
       "    </tr>\n",
       "    <tr>\n",
       "      <th>18972</th>\n",
       "      <td>ENSP00000364543</td>\n",
       "      <td>hsa03018</td>\n",
       "    </tr>\n",
       "    <tr>\n",
       "      <th>18974</th>\n",
       "      <td>ENSP00000377001</td>\n",
       "      <td>hsa04340</td>\n",
       "    </tr>\n",
       "    <tr>\n",
       "      <th>18979</th>\n",
       "      <td>ENSP00000334452</td>\n",
       "      <td>hsa04740</td>\n",
       "    </tr>\n",
       "    <tr>\n",
       "      <th>18988</th>\n",
       "      <td>ENSP00000365256</td>\n",
       "      <td>hsa04613</td>\n",
       "    </tr>\n",
       "    <tr>\n",
       "      <th>18990</th>\n",
       "      <td>ENSP00000309402</td>\n",
       "      <td>hsa04141</td>\n",
       "    </tr>\n",
       "  </tbody>\n",
       "</table>\n",
       "<p>3450 rows × 2 columns</p>\n",
       "</div>"
      ],
      "text/plain": [
       "              protein1  protein2\n",
       "8      ENSP00000297071  hsa03040\n",
       "12     ENSP00000220966  hsa00330\n",
       "19     ENSP00000340736  hsa00500\n",
       "22     ENSP00000385470  hsa04060\n",
       "27     ENSP00000230085  hsa04144\n",
       "...                ...       ...\n",
       "18972  ENSP00000364543  hsa03018\n",
       "18974  ENSP00000377001  hsa04340\n",
       "18979  ENSP00000334452  hsa04740\n",
       "18988  ENSP00000365256  hsa04613\n",
       "18990  ENSP00000309402  hsa04141\n",
       "\n",
       "[3450 rows x 2 columns]"
      ]
     },
     "execution_count": 29,
     "metadata": {},
     "output_type": "execute_result"
    }
   ],
   "source": [
    "string_physical_kegg_pathwaylist = string_physical_kegg_pathwaylist.rename(mapper={'query':'protein1','pathway_kegg_id':'protein2'},axis=1)\n",
    "string_physical_kegg_pathwaylist"
   ]
  },
  {
   "cell_type": "markdown",
   "metadata": {},
   "source": [
    "combine inbiomap df and kegg id df"
   ]
  },
  {
   "cell_type": "code",
   "execution_count": 30,
   "metadata": {
    "ExecuteTime": {
     "end_time": "2021-10-15T18:24:49.533429Z",
     "start_time": "2021-10-15T18:24:48.929402Z"
    }
   },
   "outputs": [],
   "source": [
    "heterogeneous_network_string_physical_kegg_df = pd.concat([df_string,string_physical_kegg_pathwaylist],axis=0)"
   ]
  },
  {
   "cell_type": "markdown",
   "metadata": {},
   "source": [
    "construct heterogeneous network"
   ]
  },
  {
   "cell_type": "code",
   "execution_count": 31,
   "metadata": {
    "ExecuteTime": {
     "end_time": "2021-10-15T18:25:09.051760Z",
     "start_time": "2021-10-15T18:24:50.453895Z"
    }
   },
   "outputs": [
    {
     "name": "stdout",
     "output_type": "stream",
     "text": [
      "Name: \n",
      "Type: Graph\n",
      "Number of nodes: 19273\n",
      "Number of edges: 4345369\n",
      "Average degree: 450.9281\n"
     ]
    }
   ],
   "source": [
    "heterogeneous_network_string_physical_kegg = nx.from_pandas_edgelist(heterogeneous_network_string_physical_kegg_df,source='protein1',target ='protein2')\n",
    "print(nx.info(heterogeneous_network_string_physical_kegg))"
   ]
  },
  {
   "cell_type": "markdown",
   "metadata": {},
   "source": [
    "### write heterogeneous network as file"
   ]
  },
  {
   "cell_type": "code",
   "execution_count": 32,
   "metadata": {
    "ExecuteTime": {
     "end_time": "2021-10-15T18:25:17.963339Z",
     "start_time": "2021-10-15T18:25:09.350707Z"
    }
   },
   "outputs": [],
   "source": [
    "nx.write_edgelist(heterogeneous_network_string_physical_kegg, \"../data/heterogeneous_STRINGPhysical_KEGG.txt\")"
   ]
  },
  {
   "cell_type": "markdown",
   "metadata": {
    "heading_collapsed": true
   },
   "source": [
    "## STRING-physical  high confidence with KEGG"
   ]
  },
  {
   "cell_type": "code",
   "execution_count": null,
   "metadata": {
    "hidden": true
   },
   "outputs": [],
   "source": [
    "print(type(results_high_kegg['out']))\n",
    "print(type(results_high_kegg['out']['pathway.kegg.id']))\n",
    "#inbiomap_kegg=results_inbiomap_kegg['out']['pathway.kegg.id'].to_frame()\n",
    "STRING_physical_high_kegg = results_high_kegg['out'].reset_index()\n",
    "#inbiomap_kegg = inbiomap_kegg.reset_index()\n",
    "#這邊會需要這一個method是因為丟入的geneid 會變成index，會因此不好取用裡面的值，所以使用reset index來重置\n",
    "#print(type(inbiomap_kegg))\n",
    "STRING_physical_high_kegg = STRING_physical_high_kegg.rename(mapper={'pathway.kegg':'pathway_kegg','pathway.kegg.id':'pathway_kegg_id','pathway.kegg.name':'pathway_kegg_name'},axis=1)\n",
    "#做rename，是為了後面比較好分析\n",
    "print(STRING_physical_high_kegg.info())\n",
    "print(STRING_physical_high_kegg.describe())\n",
    "STRING_physical_high_kegg[:5]"
   ]
  },
  {
   "cell_type": "code",
   "execution_count": null,
   "metadata": {
    "hidden": true
   },
   "outputs": [],
   "source": [
    "#print(inbiomap_kegg['pathway.kegg.id'])\n",
    "STRING_physical_high_kegg_id = STRING_physical_high_kegg['pathway_kegg_id'].unique()\n",
    "print('有多少pathway被mapping在網路中: ',len(STRING_physical_high_kegg_id))\n",
    "#print(inbiomap_kegg_id)"
   ]
  },
  {
   "cell_type": "code",
   "execution_count": null,
   "metadata": {
    "hidden": true
   },
   "outputs": [],
   "source": [
    "STRING_physical_high_kegg_pathwaylist = STRING_physical_high_kegg[['query','pathway_kegg_id']]\n",
    "print(STRING_physical_high_kegg_pathwaylist)"
   ]
  },
  {
   "cell_type": "code",
   "execution_count": null,
   "metadata": {
    "hidden": true
   },
   "outputs": [],
   "source": [
    "STRING_physical_high_kegg_pathwaylist['pathway_kegg_id'] = STRING_physical_high_kegg_pathwaylist['pathway_kegg_id'].map(np.nan_to_num)"
   ]
  },
  {
   "cell_type": "code",
   "execution_count": null,
   "metadata": {
    "hidden": true
   },
   "outputs": [],
   "source": [
    "STRING_physical_high_kegg_pathwaylist"
   ]
  },
  {
   "cell_type": "code",
   "execution_count": null,
   "metadata": {
    "hidden": true
   },
   "outputs": [],
   "source": [
    "j = STRING_physical_high_kegg_pathwaylist[STRING_physical_high_kegg_pathwaylist.pathway_kegg_id == 0 ].index\n",
    "print('有多少數量的gene是沒有被找到相應的pathway:',len(j))\n",
    "STRING_physical_high_kegg_pathwaylist = STRING_physical_high_kegg_pathwaylist.drop(j)"
   ]
  },
  {
   "cell_type": "code",
   "execution_count": null,
   "metadata": {
    "hidden": true
   },
   "outputs": [],
   "source": [
    "STRING_physical_high_kegg_pathwaylist = STRING_physical_high_kegg_pathwaylist.rename(mapper={'query':'protein1','pathway_kegg_id':'protein2'},axis=1)\n",
    "STRING_physical_high_kegg_pathwaylist"
   ]
  },
  {
   "cell_type": "code",
   "execution_count": null,
   "metadata": {
    "hidden": true
   },
   "outputs": [],
   "source": [
    "heterogeneous_network_STRING_physical_high_kegg_df = pd.concat([confidence_score_high,STRING_physical_high_kegg_pathwaylist],axis=0)\n",
    "heterogeneous_network_STRING_physical_high_kegg_df"
   ]
  },
  {
   "cell_type": "code",
   "execution_count": null,
   "metadata": {
    "hidden": true
   },
   "outputs": [],
   "source": [
    "heterogeneous_network_STRING_physical_high_kegg = nx.from_pandas_edgelist(heterogeneous_network_STRING_physical_high_kegg_df,source='protein1',target ='protein2')\n",
    "print(nx.info(heterogeneous_network_STRING_physical_high_kegg))"
   ]
  }
 ],
 "metadata": {
  "kernelspec": {
   "display_name": "Python 3",
   "language": "python",
   "name": "python3"
  },
  "language_info": {
   "codemirror_mode": {
    "name": "ipython",
    "version": 3
   },
   "file_extension": ".py",
   "mimetype": "text/x-python",
   "name": "python",
   "nbconvert_exporter": "python",
   "pygments_lexer": "ipython3",
   "version": "3.8.3"
  },
  "toc": {
   "base_numbering": 1,
   "nav_menu": {},
   "number_sections": true,
   "sideBar": true,
   "skip_h1_title": false,
   "title_cell": "Table of Contents",
   "title_sidebar": "Contents",
   "toc_cell": false,
   "toc_position": {},
   "toc_section_display": true,
   "toc_window_display": false
  },
  "varInspector": {
   "cols": {
    "lenName": 16,
    "lenType": 16,
    "lenVar": 40
   },
   "kernels_config": {
    "python": {
     "delete_cmd_postfix": "",
     "delete_cmd_prefix": "del ",
     "library": "var_list.py",
     "varRefreshCmd": "print(var_dic_list())"
    },
    "r": {
     "delete_cmd_postfix": ") ",
     "delete_cmd_prefix": "rm(",
     "library": "var_list.r",
     "varRefreshCmd": "cat(var_dic_list()) "
    }
   },
   "types_to_exclude": [
    "module",
    "function",
    "builtin_function_or_method",
    "instance",
    "_Feature"
   ],
   "window_display": false
  }
 },
 "nbformat": 4,
 "nbformat_minor": 4
}
