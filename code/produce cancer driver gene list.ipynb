{
 "cells": [
  {
   "cell_type": "markdown",
   "id": "249a72c7",
   "metadata": {},
   "source": [
    "# enviorment"
   ]
  },
  {
   "cell_type": "code",
   "execution_count": 148,
   "id": "763a4dcb",
   "metadata": {},
   "outputs": [],
   "source": [
    "%matplotlib inline\n",
    "%debug \n",
    "import csv\n",
    "import pandas as pd\n",
    "import numpy as np\n",
    "import networkx as nx\n",
    "from tqdm import tnragne, tqdm_notebook"
   ]
  },
  {
   "cell_type": "markdown",
   "id": "691cb0e3",
   "metadata": {},
   "source": [
    "# material address"
   ]
  },
  {
   "cell_type": "code",
   "execution_count": 149,
   "id": "d811c7ea",
   "metadata": {},
   "outputs": [],
   "source": [
    "df = pd.read_table(\"D:/downloads/mutation_download_tab.txt\",sep=\"\\t\")"
   ]
  },
  {
   "cell_type": "code",
   "execution_count": 150,
   "id": "4303f084",
   "metadata": {},
   "outputs": [
    {
     "data": {
      "text/html": [
       "<div>\n",
       "<style scoped>\n",
       "    .dataframe tbody tr th:only-of-type {\n",
       "        vertical-align: middle;\n",
       "    }\n",
       "\n",
       "    .dataframe tbody tr th {\n",
       "        vertical-align: top;\n",
       "    }\n",
       "\n",
       "    .dataframe thead th {\n",
       "        text-align: right;\n",
       "    }\n",
       "</style>\n",
       "<table border=\"1\" class=\"dataframe\">\n",
       "  <thead>\n",
       "    <tr style=\"text-align: right;\">\n",
       "      <th></th>\n",
       "      <th>cancer_project</th>\n",
       "      <th>cancer_type_abbr</th>\n",
       "      <th>tool</th>\n",
       "      <th>driver_gene</th>\n",
       "    </tr>\n",
       "  </thead>\n",
       "  <tbody>\n",
       "    <tr>\n",
       "      <th>0</th>\n",
       "      <td>Adrenocortical_carcinoma(TCGA,US)</td>\n",
       "      <td>ACC</td>\n",
       "      <td>activedriver</td>\n",
       "      <td>APC, USF3, TMCC1, CXXC1, CPS1, KIAA1671, ADNP,...</td>\n",
       "    </tr>\n",
       "    <tr>\n",
       "      <th>1</th>\n",
       "      <td>Adrenocortical_carcinoma(TCGA,US)</td>\n",
       "      <td>ACC</td>\n",
       "      <td>comet</td>\n",
       "      <td>ANO2, ANK3, STAB1, CLTB, HUWE1, EPG5, CHD2, RB...</td>\n",
       "    </tr>\n",
       "    <tr>\n",
       "      <th>2</th>\n",
       "      <td>Adrenocortical_carcinoma(TCGA,US)</td>\n",
       "      <td>ACC</td>\n",
       "      <td>dendrix</td>\n",
       "      <td>NLRP12, GOLGA4, NAV3, UNC13C, CMYA5, CCDC168, ...</td>\n",
       "    </tr>\n",
       "    <tr>\n",
       "      <th>3</th>\n",
       "      <td>Adrenocortical_carcinoma(TCGA,US)</td>\n",
       "      <td>ACC</td>\n",
       "      <td>driverml</td>\n",
       "      <td>EXPH5, EML6, TP53, MUC4, NUP188</td>\n",
       "    </tr>\n",
       "    <tr>\n",
       "      <th>4</th>\n",
       "      <td>Adrenocortical_carcinoma(TCGA,US)</td>\n",
       "      <td>ACC</td>\n",
       "      <td>e-driver</td>\n",
       "      <td>XIRP2, SVEP1, CSMD3, CCDC168, HMCN1, VWF, GRID...</td>\n",
       "    </tr>\n",
       "    <tr>\n",
       "      <th>...</th>\n",
       "      <td>...</td>\n",
       "      <td>...</td>\n",
       "      <td>...</td>\n",
       "      <td>...</td>\n",
       "    </tr>\n",
       "    <tr>\n",
       "      <th>367</th>\n",
       "      <td>Uveal_melanoma(TCGA,US)</td>\n",
       "      <td>UVM</td>\n",
       "      <td>msea</td>\n",
       "      <td>EIF1AX, SF3B1, GNAQ, GNA11</td>\n",
       "    </tr>\n",
       "    <tr>\n",
       "      <th>368</th>\n",
       "      <td>Uveal_melanoma(TCGA,US)</td>\n",
       "      <td>UVM</td>\n",
       "      <td>mutex</td>\n",
       "      <td>GNAQ, GNA11</td>\n",
       "    </tr>\n",
       "    <tr>\n",
       "      <th>369</th>\n",
       "      <td>Uveal_melanoma(TCGA,US)</td>\n",
       "      <td>UVM</td>\n",
       "      <td>mutsigcv</td>\n",
       "      <td>GNA11, HECW2</td>\n",
       "    </tr>\n",
       "    <tr>\n",
       "      <th>370</th>\n",
       "      <td>Uveal_melanoma(TCGA,US)</td>\n",
       "      <td>UVM</td>\n",
       "      <td>netbox</td>\n",
       "      <td>BAP1, COL14A1, CYSLTR2, EIF1AX, GNA11, GNAQ, M...</td>\n",
       "    </tr>\n",
       "    <tr>\n",
       "      <th>371</th>\n",
       "      <td>Uveal_melanoma(TCGA,US)</td>\n",
       "      <td>UVM</td>\n",
       "      <td>oncodriveclust</td>\n",
       "      <td>GNAQ, GNA11, SF3B1, EIF1AX</td>\n",
       "    </tr>\n",
       "  </tbody>\n",
       "</table>\n",
       "<p>372 rows × 4 columns</p>\n",
       "</div>"
      ],
      "text/plain": [
       "                        cancer_project cancer_type_abbr            tool  \\\n",
       "0    Adrenocortical_carcinoma(TCGA,US)              ACC    activedriver   \n",
       "1    Adrenocortical_carcinoma(TCGA,US)              ACC           comet   \n",
       "2    Adrenocortical_carcinoma(TCGA,US)              ACC         dendrix   \n",
       "3    Adrenocortical_carcinoma(TCGA,US)              ACC        driverml   \n",
       "4    Adrenocortical_carcinoma(TCGA,US)              ACC        e-driver   \n",
       "..                                 ...              ...             ...   \n",
       "367            Uveal_melanoma(TCGA,US)              UVM            msea   \n",
       "368            Uveal_melanoma(TCGA,US)              UVM           mutex   \n",
       "369            Uveal_melanoma(TCGA,US)              UVM        mutsigcv   \n",
       "370            Uveal_melanoma(TCGA,US)              UVM          netbox   \n",
       "371            Uveal_melanoma(TCGA,US)              UVM  oncodriveclust   \n",
       "\n",
       "                                           driver_gene  \n",
       "0    APC, USF3, TMCC1, CXXC1, CPS1, KIAA1671, ADNP,...  \n",
       "1    ANO2, ANK3, STAB1, CLTB, HUWE1, EPG5, CHD2, RB...  \n",
       "2    NLRP12, GOLGA4, NAV3, UNC13C, CMYA5, CCDC168, ...  \n",
       "3                      EXPH5, EML6, TP53, MUC4, NUP188  \n",
       "4    XIRP2, SVEP1, CSMD3, CCDC168, HMCN1, VWF, GRID...  \n",
       "..                                                 ...  \n",
       "367                         EIF1AX, SF3B1, GNAQ, GNA11  \n",
       "368                                        GNAQ, GNA11  \n",
       "369                                       GNA11, HECW2  \n",
       "370  BAP1, COL14A1, CYSLTR2, EIF1AX, GNA11, GNAQ, M...  \n",
       "371                         GNAQ, GNA11, SF3B1, EIF1AX  \n",
       "\n",
       "[372 rows x 4 columns]"
      ]
     },
     "execution_count": 150,
     "metadata": {},
     "output_type": "execute_result"
    }
   ],
   "source": [
    "df"
   ]
  },
  {
   "cell_type": "code",
   "execution_count": 151,
   "id": "a6b90c80",
   "metadata": {},
   "outputs": [
    {
     "data": {
      "text/plain": [
       "\"for i in range(len(df)):\\n    if df.loc['cancer_type_abbr']\""
      ]
     },
     "execution_count": 151,
     "metadata": {},
     "output_type": "execute_result"
    }
   ],
   "source": [
    "'''for i in range(len(df)):\n",
    "    if df.loc['cancer_type_abbr']'''"
   ]
  },
  {
   "cell_type": "code",
   "execution_count": 152,
   "id": "b5d2ff88",
   "metadata": {},
   "outputs": [],
   "source": [
    " df_group=df.groupby(by='cancer_type_abbr',as_index=True)"
   ]
  },
  {
   "cell_type": "code",
   "execution_count": 172,
   "id": "b8724855",
   "metadata": {},
   "outputs": [
    {
     "data": {
      "text/plain": [
       "cancer_type_abbr\n",
       "ACC     10\n",
       "BLCA    14\n",
       "BRCA    14\n",
       "CESC    12\n",
       "CHOL     8\n",
       "COAD    14\n",
       "DLBC    10\n",
       "ESCA    12\n",
       "GBM     12\n",
       "HNSC    13\n",
       "KICH     8\n",
       "KIRC    10\n",
       "KIRP    10\n",
       "LAML    11\n",
       "LGG     11\n",
       "LIHC    14\n",
       "LUAD    14\n",
       "LUSC    13\n",
       "MESO     7\n",
       "OV      12\n",
       "PAAD    10\n",
       "PCPG    10\n",
       "PRAD    11\n",
       "READ    13\n",
       "SARC    10\n",
       "SKCM    12\n",
       "STAD    14\n",
       "TGCT    10\n",
       "THCA    10\n",
       "THYM    10\n",
       "UCEC    13\n",
       "UCS     10\n",
       "UVM     10\n",
       "dtype: int64"
      ]
     },
     "execution_count": 172,
     "metadata": {},
     "output_type": "execute_result"
    }
   ],
   "source": [
    "df_group.size()"
   ]
  },
  {
   "cell_type": "code",
   "execution_count": 192,
   "id": "8a023957",
   "metadata": {},
   "outputs": [
    {
     "data": {
      "text/plain": [
       "Index(['ACC', 'BLCA', 'BRCA', 'CESC', 'CHOL', 'COAD', 'DLBC', 'ESCA', 'GBM',\n",
       "       'HNSC', 'KICH', 'KIRC', 'KIRP', 'LAML', 'LGG', 'LIHC', 'LUAD', 'LUSC',\n",
       "       'MESO', 'OV', 'PAAD', 'PCPG', 'PRAD', 'READ', 'SARC', 'SKCM', 'STAD',\n",
       "       'TGCT', 'THCA', 'THYM', 'UCEC', 'UCS', 'UVM'],\n",
       "      dtype='object', name='cancer_type_abbr')"
      ]
     },
     "execution_count": 192,
     "metadata": {},
     "output_type": "execute_result"
    }
   ],
   "source": [
    "df_group.first().index"
   ]
  },
  {
   "cell_type": "code",
   "execution_count": 193,
   "id": "6f55484c",
   "metadata": {},
   "outputs": [
    {
     "name": "stdout",
     "output_type": "stream",
     "text": [
      "24    APC, ATM, CDK4, DLD, DPYD, HADHA, INSR, SGCB, ...\n",
      "25    KMT2A, PIK3CA, DENND5B, MYO16, FAT2, XPO1, COL...\n",
      "26    EGR1, EEF1A1, THRA, ACTG1, FOS, FABP4, SOCS1, ...\n",
      "27    AKT1, PIK3CA, GATA3, TP53, RREB1, PLXNA3, DNAH...\n",
      "28    ARID1A, CDH1, GATA3, KMT2C, MAP3K1, MUC4, NCOR...\n",
      "29    TP53, PIK3CA, CDH1, GATA3, PTEN, AKT1, PIK3R1,...\n",
      "30    TNK2, FSHR, A2ML1, TMF1, CDH15, PLEC, ZNF84, P...\n",
      "31    TBX3, CDH1, MUC4, SCN10A, NBPF14, MYOCD, TP53,...\n",
      "32    AKT1, FOXA1, NCOR1, PRKDC, RB1, RUNX1, MAP2K4,...\n",
      "33    LRRC37A3, CHD3, ADGRL2, MAP3K10, AURKA, PUM2, ...\n",
      "34    TP53, CDH1, GATA3, PIK3CA, MAP3K1, AKT1, FOXA1...\n",
      "35    DNAH2, CDH1, DHDDS, GRID1, RXFP2, PPP1R1C, STY...\n",
      "36                                         PIK3CA, TP53\n",
      "37    AKT1, GOLGA6L22, GOLGA6L10, NBPF15, KRAS, PIK3...\n",
      "Name: driver_gene, dtype: object\n",
      "24    [APC,  ATM,  CDK4,  DLD,  DPYD,  HADHA,  INSR,...\n",
      "25    [KMT2A,  PIK3CA,  DENND5B,  MYO16,  FAT2,  XPO...\n",
      "26    [EGR1,  EEF1A1,  THRA,  ACTG1,  FOS,  FABP4,  ...\n",
      "27    [AKT1,  PIK3CA,  GATA3,  TP53,  RREB1,  PLXNA3...\n",
      "28    [ARID1A,  CDH1,  GATA3,  KMT2C,  MAP3K1,  MUC4...\n",
      "29    [TP53,  PIK3CA,  CDH1,  GATA3,  PTEN,  AKT1,  ...\n",
      "30    [TNK2,  FSHR,  A2ML1,  TMF1,  CDH15,  PLEC,  Z...\n",
      "31    [TBX3,  CDH1,  MUC4,  SCN10A,  NBPF14,  MYOCD,...\n",
      "32    [AKT1,  FOXA1,  NCOR1,  PRKDC,  RB1,  RUNX1,  ...\n",
      "33    [LRRC37A3,  CHD3,  ADGRL2,  MAP3K10,  AURKA,  ...\n",
      "34    [TP53,  CDH1,  GATA3,  PIK3CA,  MAP3K1,  AKT1,...\n",
      "35    [DNAH2,  CDH1,  DHDDS,  GRID1,  RXFP2,  PPP1R1...\n",
      "36                                      [PIK3CA,  TP53]\n",
      "37    [AKT1,  GOLGA6L22,  GOLGA6L10,  NBPF15,  KRAS,...\n",
      "Name: driver_gene, dtype: object\n"
     ]
    }
   ],
   "source": [
    "df_BRCA = df_group.get_group(\"BRCA\").driver_gene\n",
    "print(df_BRCA)\n",
    "df_BRCA_list = df_BRCA.str.split(',')\n",
    "print(df_BRCA_list)"
   ]
  },
  {
   "cell_type": "code",
   "execution_count": 200,
   "id": "063a9d7a",
   "metadata": {},
   "outputs": [
    {
     "name": "stdout",
     "output_type": "stream",
     "text": [
      "2893\n",
      "2213\n",
      "['APC', ' ATM', ' CDK4', ' DLD', ' DPYD', ' HADHA', ' INSR', ' SGCB', ' NPC1', ' PGK1', ' PKP1', ' PTEN', ' RB1', ' SCN5A', ' ATRX', ' PMS2', ' TP53', ' TSC2', ' VWF', ' TAP1', ' ATP1A1', ' ATP4A', ' CYP51A1', ' HMGCR', ' PPIB', ' PPP3CA', ' RPL12', ' RREB1', ' OR1J1', ' SREBF1', ' MAPKAP1', ' EML1', ' HRNR', ' TNK2', ' SLC9A4', ' EIF2AK4', ' AKT1', ' ESCO2', ' RCCD1', ' ZHX1', ' ACTBL2', ' CD34', ' LIMK2', ' SPECC1', ' EIF3B', ' SDCCAG3', ' TNFRSF1B', ' TOP2A', ' QSER1', ' NFKB2', ' UBN1', ' INTS1', ' GAB3', ' EHBP1L1', ' PDS5A', ' ACTN2', ' FLNA', ' SUPT5H', ' DEPDC1', ' CPS1', ' DBNL', ' BCKDK', ' PPIAL4G', ' CLK3', ' SSFA2', ' PLCH1', ' NEMP1', ' RBM20', ' PHLDB2', ' TMEM2', ' DKC1', ' ARHGAP32', ' COG2', ' DSN1', ' TNIK', ' FLNB', ' STAU2', ' L1TD1', ' BIRC2', ' MPP1', ' AANAT', ' AFF1', ' ABL2', ' VANGL1', ' PGM1', ' CASR', ' CTTN', ' EIF4G1', ' SRSF2', ' TFG', ' AKAP2', ' EIF4G3', ' GK', ' HIF1A', ' APEX1', ' TAOK2', ' PASK', ' CDC5L', ' ANKRD11', ' ANKFY1', ' SELENBP1', ' EPS15L1', ' SFSWAP', ' AP3D1', ' TTN', ' NEB', ' USP10', ' NUP153', ' RNF19A', ' WNK2', ' PUM2', ' UBR5', ' TRIP12', ' SIPA1L1', ' NOLC1', ' RICTOR', ' C2CD5', ' SCAF8', ' GRAMD1B', ' REPS1', ' IGF2BP2', ' WASHC4', ' UPF1', ' PARD3B', ' FMN2', ' CSTF3', ' DARS', ' DYNC1H1', ' ECM2', ' EP300', ' GTF3C1', ' PARP1', ' GRK2', ' AHNAK', ' CDC25A', ' CDH3', ' CKM', ' COL6A2', ' CSNK2A2', ' CSPG4', ' DDB1', ' EPS15', ' HTT', ' HIVEP1', ' HSPA4', ' MNAT1', ' MYH9', ' PPP1R12B', ' NBN', ' PPL', ' PSMA5', ' PSMC5', ' PSMD1', ' PSMD2', ' PTBP1', ' PYGL', ' RFC4', ' RGS7', ' GRK1', ' RPA1', ' SMARCA2', ' HLTF', ' SOX11', ' NFE2L1', ' TIAM1', ' TPR', ' HSP90B1', ' HIRA', ' ZNF91', ' NRIP1', ' HIRIP3', ' DEGS1', ' YARS', ' CDK13', ' TNKS', ' EIF3A', ' IQGAP1', ' GMPS', ' PRPF4B', ' BCL10', ' CS', ' DLG1', ' EFNB2', ' STX3', ' KLF4', ' GTPBP1', ' BCR', ' CREBBP', ' DSP', ' EPRS', ' ERBB2', ' BPTF', ' FOXA1', ' SREBF2', ' TRPC6', ' XPC', ' HERC2', ' PRPF3', ' SCAF11', ' REPS2', ' SYMPK', ' ACTN4', ' ABCC1', ' MYO1E', ' POLRMT', ' QARS', ' THRAP3', ' ERBB4', ' HIST1H1T', ' NKTR', ' SHMT2', ' TP73', ' ARHGEF5', ' IRS1', ' TCF20', ' TERF2', ' DDX39A', ' SPEG', ' IDH1', ' SMAD3', ' MAP1B', ' MCM4', ' MCM7', ' MAP3K5', ' HNRNPM', ' TUBA4A', ' UCHL3', ' ARID1A', ' EXO1', ' PCNT', ' CDC42BPB', ' PKDREJ', ' KRT1', ' PCM1', ' RANBP2', ' ITSN2', ' NCOR1', ' NCOR2', ' ARFGEF2', ' ARFGEF1', ' CCT4', ' PRPF8', ' CTCF', ' MAP4K5', ' MAP3K2', ' NES', ' AHCYL1', ' UTP14A', ' MCM5', ' DDX18', ' TMED10', ' ASCC3', ' SF3B2', ' ZFP36L2', ' PRKDC', ' TOPBP1', ' POLR3A', ' KAT7', ' CLTCL1', ' TMF1', ' VCP', ' PALM2-AKAP2', ' BRCA1', ' STAT1', ' MIP', ' CCT5', ' GLUD2', ' LETM1', ' RAB3GAP2', ' SF3B1', ' TBK1', ' ZNF180', ' MAT2B', ' TRA2A', ' TFPT', ' BAZ1A', ' BAZ2A', ' EWSR1', ' SNRNP200', ' SMARCAL1', ' EDC4', ' ZNF318', ' AKAP8L', ' PRPF19', ' CNOT3', ' MDN1', ' GSE1', ' MDC1', ' DZIP3', ' PHF14', ' DOCK10', ' KNTC1', ' SLK', ' DLGAP5', ' MRPL19', ' URB1', ' DDX46', ' LMTK2', ' PDCD11', ' ACIN1', ' RIMS1', ' SPEN', ' FRYL', ' ZSWIM8', ' PIKFYVE', ' SETX', ' SMG1', ' POGZ', ' MAST2', ' ALMS1', ' RRP12', ' RPRD2', ' MICAL3', ' NCAPD3', ' SPECC1L', ' NCAPH', ' ZFYVE26', ' GEMIN5', ' VIRMA', ' CCDC9', ' KIF1BP', ' BRPF3', ' MINK1', ' NBAS', ' UTP18', ' KCTD3', ' COPG1', ' RAB10', ' CPSF3', ' ACSL5', ' TRAP1', ' BIN2', ' HSPA14', ' RAB14', ' SRRM2', ' CENPF', ' ARID4B', ' KDM3B', ' PAXBP1', ' F11R', ' MYH4', ' NOTCH1', ' WDR55', ' STAP2', ' RETSAT', ' CHD7', ' VPS13B', ' PRPF40A', ' ARHGEF40', ' ELP3', ' PLEKHG6', ' UBA6', ' NUP133', ' CDK5RAP2', ' MIS18BP1', ' WDR33', ' BDP1', ' CENPJ', ' ANLN', ' CDCA7L', ' SH3BP1', ' DAZAP1', ' PARD3', ' RAD18', ' RALGAPA2', ' NAV1', ' DCUN1D1', ' ARID1B', ' UBR4', ' NUFIP2', ' PREX1', ' VPS13C', ' SHROOM3', ' LRFN1', ' KIAA1522', ' USP37', ' NCOA5', ' ANK3', ' UBC', ' HIST1H2AE', ' NDUFV3', ' ZNF8', ' SVIL', ' TGIF2', ' GABRB2', ' JUP', ' HEATR6', ' ZNF106', ' TNS1', ' ANAPC1', ' DGCR8', ' TNS3', ' YTHDC2', ' FAM129B', ' FGFR2', ' NOTCH2', ' GCC1', ' BBS10', ' MUC16', ' SLTM', ' KIAA0319L', ' DOCK5', ' SPG11', ' PNPLA3', ' ARHGAP39', ' WDR59', ' TET1', ' HNRNPK', ' HUWE1', ' RBM4B', ' BRIP1', ' CEP192', ' USP42', ' ARFGAP2', ' BAZ1B', ' KIF2B', ' BUD13', ' ALG2', ' TNKS1BP1', ' FBXW7', ' MYO18A', ' PRRC2A', ' RAD17', ' NIPBL', ' ZNF845', ' AHNAK2', ' FAM83F', ' RAB3C', ' NEXN', ' SPICE1', ' SMCR8', ' NLRP11', ' GLYATL2', ' GCSAML', ' ZNF627', ' ATXN2L', ' CDC42EP1', ' TC2N', ' SEMA6D', ' UBR7', ' PATJ', ' ZNF680', ' HPS5', ' PIK3R1', ' KCNK18', ' PKM', ' INTS6L', ' LRRK2', ' ACACA', ' TH', ' PLEC', ' DDX42', ' NCKAP1', ' TSEN54', ' CDK18', ' ABCA2', ' LYSMD1', 'KMT2A', ' PIK3CA', ' DENND5B', ' MYO16', ' FAT2', ' XPO1', ' COL5A2', ' CADPS', ' RIMS2', ' GPC5', ' TMEM132D', ' MYOM2', ' RGPD4', ' MYBPC3', ' NRP2', ' OTOF', ' DENND4B', ' KMT2B', ' PTK2', ' POM121', ' RGS22', ' GOLGA6L22', ' RP1', ' RIMBP2', ' PLCH1', ' CDH12', ' SUPT6H', ' KCNB2', ' GATA3', ' KIAA0232', ' SMYD3', ' VWF', ' DLC1', ' MARK1', ' NPAS4', ' STAG1', ' CAMSAP2', ' LAMB3', ' SHPRH', ' EFCAB5', ' SLC9C1', ' MYLK', ' GPR179', ' ADAMTS20', ' DNAH12', ' TP53', ' NRXN2', ' CRNKL1', ' CASP8AP2', ' DUOX1', ' SRGAP1', ' FOCAD', ' NIN', ' SHANK1', ' PCDHGA2', ' ANKHD1-EIF4EBP3', ' ABCA10', ' AKT1', ' PATJ', ' AKAP6', ' PRPF8', ' NSD1', ' SIPA1L1', ' ITGA8', ' EEA1', ' SEMA5B', ' WSCD2', ' PREX1', ' CACNA1E', ' NINL', ' DNAH9', ' VCPIP1', ' UBC', ' ATP2B3', ' PLXNA2', ' PTPRG', ' CPS1', ' SCN9A', ' USP9X', ' UNC79', ' RALGAPA1', ' SPEF2', ' GCN1', ' UNC13C', ' SDK1', ' TANC1', ' ZNF292', ' KCNQ3', ' KDM5B', ' COL27A1', ' ZNF462', ' SYCP2', ' TNR', ' RBMXL3', ' SAMD9L', ' ELP1', ' ATP10B', ' SYBU', ' HCFC1', ' TP53BP1', ' GNAS', ' LRP12', ' TJP1', ' BAZ2A', ' CNTNAP5', ' EML5', ' CMYA5', ' CDH1', ' UBR2', ' SLC12A5', ' COL6A3', ' VPS13A', ' FBXW7', ' PLXNA3', ' PCDH18', ' LAMC1', ' PCNT', ' F8', ' CEP152', ' DCHS2', ' GOLGA6L10', ' GRIN2A', ' CPAMD8', ' NUMA1', ' ABCA8', ' MYH6', ' NRXN3', ' ADGB', ' ABCB11', ' DOCK11', ' CTNNA2', ' PCDHB7', ' FAM171A1', ' PTPRZ1', ' NRIP1', ' PPFIA2', ' SYCP1', ' HEATR6', ' KIF21A', ' TAF1L', ' WNK1', ' SNRNP200', ' TICRR', ' GOLGA3', ' AHNAK2', ' IRS4', ' MUC5B', ' SYT16', ' ZNF587', ' CHD1L', ' MYO5B', ' CDH20', ' DGKD', ' NLRP1', ' VPS13D', ' TNRC18', ' HDAC6', ' HMCN1', ' ADGRG4', ' HUWE1', ' PIK3C2B', ' STK31', ' IL4R', ' GOLGA6L6', ' MAGI2', ' XPOT', ' BRWD3', ' COL4A3', ' HECW1', ' HIVEP2', ' CEP192', ' ZFPM2', ' DCHS1', ' CBLB', ' NOS2', ' IPO8', ' ABCC12', ' ADAMTS3', ' PCDH9', ' ZP4', ' DDX5', ' ERICH3', ' HTT', ' MRC1', ' HSPG2', ' TTC21A', ' COL4A6', ' SPAG5', ' PXDNL', ' BIVM-ERCC5', ' VWA3A', ' ALK', ' NAV1', ' SCN2A', ' SCN1A', ' CNTN6', ' TRIP11', ' KLHL1', ' ATP2B2', ' NEB', 'EGR1', ' EEF1A1', ' THRA', ' ACTG1', ' FOS', ' FABP4', ' SOCS1', ' CAV1', ' ACTB', ' DUSP1', ' DCN', ' GSK3A', ' COL3A1', ' HBB', ' B2M', ' ACSL1', ' KLK3', ' MYL9', ' LPL', ' RPS6', ' CD74', ' SCD', ' CAT', ' FOSB', ' TNS1', ' NOTCH1', ' AKT2', ' ACTA1', ' ARF1', ' YWHAZ', 'AKT1', ' PIK3CA', ' GATA3', ' TP53', ' RREB1', ' PLXNA3', ' DNAH12', ' ABCC12', ' F8', ' LRP12', ' CUL7', ' UHRF1BP1L', ' RBM12', ' ABCA10', ' MYO6', ' RBMXL3', ' PCDH18', ' SMARCA1', ' OTOF', ' SEMA5B', ' NPIPB12', ' POLR1A', ' C5', ' LRP5', ' AFF3', ' UBE3C', ' IARS', ' FAM193A', ' ELP1', ' IL4R', ' EXPH5', ' LINGO2', ' UNC13A', ' PTCHD4', ' EFCAB5', ' TIAM2', ' MYBPC3', ' DNHD1', ' POGZ', ' MYCBPAP', ' VIRMA', ' MIS18BP1', ' MTM1', ' COL27A1', ' BCAN', ' FLNB', ' ADAMTS19', ' MYO16', ' PROX1', ' NAV2', ' SLITRK3', ' NEK5', ' MED23', ' ZFP36L1', ' GTF2IRD2', ' CADPS', ' ZFC3H1', ' JAK3', ' NOS2', ' BRWD3', ' CDH1', 'ARID1A', ' CDH1', ' GATA3', ' KMT2C', ' MAP3K1', ' MUC4', ' NCOR1', ' PIK3CA', ' PTEN', ' RUNX1', ' TP53', ' FOXA1', ' TTN', ' ERBB2', ' GOLGA6L6', ' DMD', ' SPEN', ' MUC16', ' SF3B1', ' RB1', ' NBPF12', ' SLITRK2', ' ALMS1', ' CSMD3', ' TEX15', ' F8', ' CTCF', ' GLI3', ' TCHH', ' CBFB', ' MRC1', ' CCDC168', ' FLG', ' MUC5B', ' HMCN1', ' CNOT1', ' TBC1D17', ' MAP2K4', ' DOCK6', ' ELOA', ' RYR2', ' NF1', ' ANKHD1-EIF4EBP3', ' SACS', ' HTT', ' SVEP1', ' ZFHX4', ' MED12', ' MBD6', ' SETD2', ' ZFP36L1', ' MYH9', ' NEDD4L', ' ATM', ' MYH8', ' SCN4A', ' QSER1', ' MYH2', ' CNTN3', ' NPIPB12', ' NRIP1', ' OBSCN', ' ANK3', ' ATP23', ' IL27RA', ' SHANK2', ' AARS', ' FLG2', ' MCM7', ' DIP2A', ' KMT2D', ' KDM5B', ' NUP155', ' PIK3R1', ' KDM6A', ' USF3', ' CSMD2', ' FAT3', ' MARF1', ' MAP3K4', ' TBX3', ' OR10Z1', ' TUBGCP5', ' MAGEE2', ' CEP250', ' TRIM60', ' AOAH', ' FBN3', ' SYNE2', ' MICU3', ' ARHGAP12', ' WDFY4', ' USP9X', ' ITPR1', ' SMCHD1', ' DOCK7', ' UQCRC1', ' USP34', ' ZNF429', ' APOB', ' CDKN1B', ' MED24', ' NELFCD', ' THSD7A', ' SPATA31D1', ' TRIM2', ' HAVCR1', ' ABCB10', ' PREX2', ' CACNA1A', ' HAUS8', ' DST', ' MAJIN', ' PKHD1L1', ' EXTL3', ' ZFC3H1', ' UNC13A', ' DNMT3A', ' ZNF841', ' DNAH9', ' IREB2', ' DDX21', ' DGKG', ' CASP8', ' DNAH8', ' LCT', ' ASPM', ' GIN1', ' SLC2A12', ' AMDHD1', ' FRMPD3', ' SYNE1', ' KCNH7', ' IPO8', ' PDZD2', ' FMNL3', ' COL4A5', ' MEN1', ' ERBB4', ' TENM3', ' MYO15A', ' KRAS', ' KIFC1', ' SLC26A4', ' FST', ' MEIOC', ' IFI6', ' GCC2', ' STAG2', ' ABCA13', ' KIAA0232', ' ADAM32', ' UBC', ' DNM3', ' CHD3', ' SLC43A2', ' POP1', ' TP53BP2', ' RB1CC1', ' ZNF804B', ' RBP3', ' PJVK', ' PLCZ1', ' WDR17', ' GTSE1', ' SCN9A', ' NCOA6', ' TRHDE', ' GBP5', ' CTPS2', ' LMTK2', ' PRPF38B', ' LPO', ' MAGEE1', ' ZNF623', ' RUFY1', ' FTSJ3', ' ZC3H12B', ' ABCA12', ' YLPM1', ' FATE1', ' RAB3GAP2', ' SCN10A', ' MYOM2', ' SLC9C1', ' SRP72', ' DNAH14', ' ATXN1', ' MDN1', ' ESF1', ' CASC4', ' TAF1', ' TC2N', ' USF1', ' FMO1', ' CARD6', ' MT1X', 'TP53', ' PIK3CA', ' CDH1', ' GATA3', ' PTEN', ' AKT1', ' PIK3R1', ' EP300', ' REV3L', ' PLA2G6', ' MAN1A1', ' EGFR', ' PIK3C2B', ' THBS1', ' SMAD4', ' NOS3', ' PIK3C2A', ' PIK3C2G', ' AMDHD1', ' ATM', ' HAL', ' RB1', ' PIGA', ' IDS', ' G6PD', ' ACTN4', ' ELK1', ' AKT3', ' EHHADH', ' FBXW7', ' ALDH1A3', ' ERBB2', ' CTPS2', ' DGKD', ' KALRN', ' ERBB3', ' FLNA', ' RPN1', ' PFKM', ' LIPF', ' GLUD2', ' PLCZ1', ' BRCA2', ' NF1', ' PRKDC', ' GNAI2', ' SPHK2', ' ALG13', ' DMD', ' ARAF', ' TRAF6', ' EBP', ' TPH2', ' ITPR3', ' PIK3CD', ' CACNA1B', ' PHKA2', ' CYP27B1', ' A2M', ' DGKG', ' NUP107', ' CACNA1C', ' PHKA1', ' HMBS', ' H6PD', ' ALG10B', ' PAK2', ' NFKB1', ' OCRL', ' UGT2B28', ' USP11', ' LDHA', ' NTRK1', ' DPAGT1', ' LTA4H', ' PRODH2', ' PCYT1B', ' ATP6AP1', ' PDGFRA', ' RYR3', ' NME7', ' COL4A1', ' CCNT1', ' ALAS2', ' COL3A1', ' CYLD', ' SHMT2', ' AMACR', ' ATP6V1E1', ' CBL', ' COL1A1', ' CYP3A4', ' FURIN', ' GALE', ' BCAT1', ' RET', ' EPHB2', ' NDUFB5', ' MAN1B1', ' HUWE1', ' INSR', ' PRF1', ' CACNA1S', ' TNFRSF14', ' DUSP16', ' SUPT5H', ' RBBP7', ' FGFR1', ' ITGB2', ' ABCA13', ' NOTCH4', ' LYN', ' MADD', ' KMO', ' ADSS', ' ROCK2', ' GRIN2B', ' BAX', ' MCAT', 'TNK2', ' FSHR', ' A2ML1', ' TMF1', ' CDH15', ' PLEC', ' ZNF84', ' PNPLA7', ' PLCL1', ' ZNF268', ' NBPF10', ' FLG', ' SEC24C', ' EHMT1', ' TG', ' UTP25', ' LGR4', ' TRIM67', ' COL13A1', ' PDILT', ' LRRC8A', ' SSPO', ' CACNA1E', ' ADAM18', ' ZNF658', ' ADAMTS3', ' ITPR2', ' ARHGAP9', ' EPHB1', ' CPQ', ' CHRD', ' GATA3', ' SORBS1', ' DYNC1H1', ' DVL3', ' NCOA3', ' CDH23', ' ABL2', ' TLR3', ' NMT2', ' DMBT1', ' PCDH19', ' DGKD', ' RFC4', ' TMEM132B', ' FAT1', ' PCDHGA3', ' PCDHGB6', ' PCDHGA7', ' PLAT', ' IGSF10', ' PCDHGA8', ' PCDHGB1', ' PCDHGA10', ' COL14A1', ' ALDH16A1', ' LRIG1', ' COP1', ' ZNF564', ' ZNF791', ' RASA1', ' CDK11B', ' FAM193A', ' TEX14', ' NFATC2', ' FEZF2', ' IRS1', ' KRT74', ' CR1', ' CACNA1A', ' DCBLD2', ' MRGPRX1', ' ADAR', ' CSMD1', ' OBSCN', ' NRK', ' PAM', ' TDRKH', ' TNKS2', ' ITGB8', ' TMEM132E', ' LPP', ' SVEP1', ' ZSCAN20', ' TDRD1', ' KRT2', ' CSMD3', ' GCNA', ' PIK3CA', ' PCDHAC2', ' PCDHA2', ' PCDHA8', ' PCDHA7', ' PCDHA3', ' PCDHA6', ' ', ' ABCA2', ' CHERP', ' PLD1', ' DDX24', ' LRRC8E', ' GRID2', ' GDPD1', ' CDHR1', ' TBC1D8B', ' CELSR2', ' RBM19', ' PGR', ' IGDCC4', ' PIWIL1', ' LRP1', ' CCDC168', ' TBX3', ' GABRG2', ' NAB2', ' MYOF', ' ATP13A5', ' RPS6KC1', ' EGFR', ' CCAR1', ' LYST', ' LRRK1', ' ZNF534', ' UNC5D', ' NID1', ' MRC1', ' TECTA', ' SIN3B', ' ROR2', ' DPP8', ' CAST', ' ANKRD35', ' PCDHB3', ' PCDHB14', ' LGI1', ' PCDHB16', ' MAGI1', ' ACIN1', ' SEL1L2', ' ABI3BP', ' SPTAN1', ' NOTCH2', ' ENPP2', ' DACH2', ' PCLO', ' HDLBP', ' MAP3K10', ' ATP13A3', ' ABCB10', ' GSPT2', ' MAMDC4', ' ATP12A', ' NLRC3', ' TRPC3', ' RGS7', ' USP21', ' EHD1', ' COL7A1', ' APAF1', ' DLG5', ' CHD7', ' KRTAP10-5', ' HMCN1', ' KRTAP10-4', ' VWF', ' GABRA5', ' TRPC7', ' ASPM', ' ZHX3', ' SIGLEC12', ' PLK1', ' CREBBP', ' ATP2B2', ' LINGO2', ' CDC42BPA', ' ATP2A1', ' COMP', ' PPFIA4', ' STARD3', ' ITGAE', ' EPHA6', ' ZNF175', ' PTCH1', ' CPD', ' ANKHD1-EIF4EBP3', ' CRYBG3', ' TRAK1', ' NOBOX', ' GALNT6', ' ITIH4', ' DIP2A', ' BRPF3', ' CRB1', ' MAP7D3', ' FN1', ' SRGAP2', ' ARMCX5', ' DNAH1', ' TRIM23', ' DST', ' DGKK', ' FGG', ' IGF2R', ' NCAM1', ' ANO4', ' SFMBT1', ' TRIM9', ' ALS2', ' IPO8', ' ZNF441', ' NFKB2', ' GRID2IP', ' ABCC1', ' DNMT1', ' ZNF700', ' MUC21', ' MAPKAP1', ' ERBB2', ' KIRREL1', ' PAPLN', ' CAPN1', ' ZNF333', ' BUD23', ' JAG1', ' JPH1', ' ADGRL3', ' FLNA', ' ATP10B', ' ITGB5', ' SOX6', ' TAF1L', ' MAP2K4', ' KCNQ4', ' A1CF', ' MDN1', ' MLH3', ' TRPC5', ' CSMD2', ' WDR49', ' ZNF12', ' ZFP62', ' BRAP', ' DNAH11', ' ITGA2B', ' KLHL1', ' MYOCD', ' ZBTB43', ' SPTB', ' FAM117B', ' NRDC', ' RIMS2', ' EML2', ' MECOM', ' SCN9A', ' FRY', ' SLC4A5', ' LRRN1', ' EPS15L1', ' SRCAP', ' TNC', ' RUNX1', ' ZFP36L1', ' USP34', ' FBXO11', ' MYNN', ' HLF', ' MMP24', ' MTOR', ' KRT85', ' PTK2', ' NLRP8', ' LETM1', ' NLRP5', ' ZKSCAN5', ' IGFN1', ' FMN2', ' ARHGEF11', ' ZFP30', ' PLCB2', ' NLRP3', ' ZNF263', ' TRPM2', ' ARHGEF17', ' CMTR2', ' STAT5A', ' AKT1', ' KRT9', ' SYNE2', ' SH2B1', ' TEK', ' LTBP2', ' CCDC88A', ' ARL6IP6', ' KIRREL3', ' RGS22', ' PLPPR3', ' CHST15', ' ZNF569', ' PTEN', ' ZNF124', ' NBPF9', ' EPC2', ' THBS3', ' APC', ' CAMSAP3', ' SSH3', ' SOS2', ' RYR2', ' DENND1A', ' LRRN3', ' MYO10', ' CFAP57', ' ZNF814', ' ABR', ' ZBED9', ' ABCA10', ' EHBP1L1', ' MLLT6', ' SPTBN1', ' SCAF4', ' POLR1B', ' L3MBTL2', ' DIAPH1', ' ADAMTS1', ' KIF1B', ' POLR1A', ' PREX1', ' BPTF', ' MYB', ' ANK2', ' FES', ' PIK3CG', ' PLXNA4', ' DRP2', ' SPAST', ' ITPRID2', ' RPAP1', ' HCRTR2', ' LAMC3', ' CDH9', ' VRK3', ' ADGRL2', ' ATP2B3', ' ZNF107', ' TNXB', ' DNAH8', ' ZNF420', ' ZNF585B', ' HSPG2', ' ATP1A1', ' RIC1', ' OPRM1', ' HNF4A', ' FBXW7', ' PCNX2', ' NRCAM', ' ZNF35', ' ZKSCAN7', ' ERICH6B', ' SMYD3', ' GLG1', ' ITPR1', ' LRP5', ' PTBP1', ' TRIM77', ' LIG1', ' VIL1', ' APLP2', ' RFX4', ' GABBR1', ' WNK2', ' SPATA13', ' SDK2', ' LPCAT1', ' ZAN', ' FRMPD2', ' BIRC6', ' CHAF1A', ' KMT2B', ' DNAJC10', ' ZNF131', ' TRPA1', ' KLHL31', ' ZNF510', ' MCM3AP', ' HNRNPK', ' MEFV', ' DNAJC6', ' ABCB4', ' CAMTA1', ' BAZ2B', ' ZBED1', ' ZNF675', ' COL1A2', ' LTBP4', ' FLT4', ' FARS2', ' SEC24B', ' NCOR1', ' MAN1A1', ' ZNF681', ' RGPD8', ' LRRC42', ' BBS9', ' BOD1L1', ' ZFP36L2', ' GRIN2A', ' POU2F2', ' ZNF773', ' CORIN', ' HDAC5', ' ADGRB3', ' KLHL9', ' ATP4A', ' ABCA9', ' KIR3DL2', ' COL4A1', ' FLYWCH1', ' IRF9', ' ZNF133', ' MAP3K1', ' COL20A1', ' GDPD4', ' LAMA3', ' AQR', ' FLNC', ' LIFR', ' MYBPC2', ' NBPF26', ' COL4A3', ' MGA', ' ITGB4', ' ZNF470', ' KIT', ' DMXL2', ' RNF17', ' SORL1', ' ZFR', ' KIF16B', ' KCND1', ' LRIT3', ' MYO9A', ' ZNF714', ' ZNF595', ' ZNF233', ' TP53', ' ZNF718', ' TTC28', ' ZNF347', ' DMD', ' AGO4', ' ZNF329', ' SLC39A6', ' ZNF721', ' PEAK1', ' EEF1A1', ' ST6GALNAC1', ' LATS1', ' COL3A1', ' DYSF', ' CHD6', ' CNKSR2', ' TTN', ' ZBTB49', ' SHANK1', ' OTOF', ' LMTK3', ' LRRC32', ' SRPK2', ' ATP1A3', ' SEC23B', ' FBN2', ' NBPF15', ' UNC13D', ' PON1', ' FOXA1', ' AP1B1', ' MACF1', ' ZNF335', ' SPTBN5', ' UNC13A', ' TRIM5', ' TRIM33', ' PTPRT', ' MPDZ', ' NOTCH4', ' MGAM', ' SLC12A5', ' KIAA1211L', ' MMP9', ' ALPK1', ' PDE6A', ' NEB', ' ZNF43', ' PUM3', ' DCLK2', ' SPTBN4', ' AP2A2', ' ASXL2', ' DSC3', ' UBASH3A', ' TEP1', ' HERC5', ' ADAMTSL3', ' RAPH1', ' FUBP1', ' SLC8A1', ' RRBP1', ' MGAM2', ' GPRC6A', ' SPHKAP', ' ITK', ' CDH26', ' TGM3', ' PIK3R1', ' EPB41L2', ' MEGF10', ' MAST1', ' COL4A5', ' HEPH', ' ZNF676', ' IGSF1', ' EIF5B', ' GRIK5', ' PRDM1', ' DOT1L', ' SLTM', ' PMS1', ' PTPRK', ' NPIPB4', ' POM121L2', ' ZNF184', ' ETV1', ' ZMYM3', ' CLCN3', ' AOX1', ' SPRED1', ' IGSF9', ' COL24A1', ' NUTM1', ' PSME4', ' ZFP3', ' DNAH3', ' PRKAA1', ' EHBP1', ' TRIO', ' DENND2A', ' FGL2', ' ERMAP', ' NBPF14', ' ROBO3', 'TBX3', ' CDH1', ' MUC4', ' SCN10A', ' NBPF14', ' MYOCD', ' TP53', ' PIK3CA', ' MKI67', ' PTEN', ' NF1', ' COL5A3', ' C2orf16', ' FAT1', ' FRMPD3', ' CTCF', ' RUNX1', ' FOXA1', ' NBEAL1', ' MAP3K1', ' HIST1H3B', ' RYR2', ' GOLGA6L10', ' KIF16B', ' SVIL', ' AKT1', ' KIF21A', ' TRRAP', ' MAP2K4', ' MYO15A', ' GATA3', ' RGS7', ' HYDIN', ' HIST1H2AE', ' ST18', ' PEAK1', ' ASXL2', ' NPIPB12', ' SF3B1', ' CRYBG3', ' CRYBG1', ' ABCA10', ' DNAH6', ' PIK3R1', ' CATSPERE', ' BRWD1', ' ERBB2', ' CCDC88A', ' RIMS2', ' KIF1B', ' NBPF12', ' GOLGA6L6', ' PLXNA2', ' MICAL3', ' RIC1', ' PCDHGB6', ' POM121', ' AKAP12', ' SGIP1', ' GOLGA6L22', ' UPF3B', 'AKT1', ' FOXA1', ' NCOR1', ' PRKDC', ' RB1', ' RUNX1', ' MAP2K4', ' PIK3R1', ' PTEN', ' RELN', ' ERBB2', ' PIK3CA', ' ATM', ' MAP3K1', ' CDH1', ' TP53', ' GATA3', ' TAF1', ' MED12', ' USP9X', ' PREX2', ' TLN1', ' CHD4', ' BRCA2', ' LRP1', ' ANK3', ' UBR5', 'LRRC37A3', ' CHD3', ' ADGRL2', ' MAP3K10', ' AURKA', ' PUM2', ' SLC22A14', ' FAT1', ' FAM13B', ' TAAR1', ' GPC2', ' CTAGE6', ' KMT2C', ' PHF20L1', ' ST6GALNAC6', ' IL1RAPL1', ' GRAMD1B', ' SMG5', ' TBX3', ' KRT2', ' EXOC5', ' KIF7', ' DNAH3', ' TP53', ' GALNT1', ' TTN', ' KNG1', ' PIK3R1', ' ARSK', ' ARID1B', ' PEX6', ' RIC1', ' USP21', ' RGS7', ' CBFB', ' MYO15A', ' PSMD1', ' VIT', ' RUVBL1', ' PKD2', ' SYNE1', ' AARS2', ' SEMA3C', ' COL1A2', ' ST18', ' KIF27', ' PHLDB1', ' NBPF12', ' VWCE', ' KIF21A', ' ARHGEF7', ' RBM25', ' NUTM1', ' PIAS1', ' SYT17', ' MAP2K4', ' ANKFY1', ' ABCC3', ' HLF', ' SETBP1', ' ALPK2', ' TRIP10', ' C20orf194', ' GRIK1', ' MYH9', ' DNAH6', ' IQCG', ' HIST1H2AK', ' ASIC3', ' VEGFD', ' MKI67', ' KAT6B', ' GATA3', ' TRPM5', ' FLG2', ' RYR2', ' KIF26B', ' KLHL1', ' ZSCAN32', ' CDH1', ' SIPA1L3', ' RUNX1', ' MEI1', ' SLC4A1AP', ' ANKRD36', ' TSGA10', ' PIK3CA', ' MAGI1', ' DIAPH1', ' PLEKHG4B', ' HIST1H3B', ' CPNE5', ' MUC3A', ' TMEM209', ' JPH1', ' PTEN', ' PIK3C2A', ' PLOD1', ' CA14', ' POMT2', ' PIEZO2', ' FHOD3', ' CLCA2', ' MARK4', ' NCOA5', ' NPHP3', ' VIRMA', ' UPF3B', ' F8', ' ZNF687', ' CATSPERE', ' PDS5B', ' ZNF423', ' TOP3A', ' RBMXL1', ' ZNF257', ' LILRA2', ' NRP2', ' CAND2', ' IBSP', ' PTCHD4', ' PRDM13', ' HS6ST2', ' ATRX', ' VPS26A', ' MS4A2', ' SSH3', ' SBF2', ' RALGAPA1', ' MYO5A', ' NPIPB4', ' TAOK1', ' ACSBG2', ' ADNP', ' TPO', ' ZFP36L2', ' CCDC88A', ' REV3L', ' MDN1', ' MGAM', ' COBL', ' GRM3', ' LPGAT1', ' KBTBD7', ' PSMB11', ' SNX1', ' MARF1', ' MCOLN2', ' ZSCAN5A', ' COL5A3', ' ANKRD36B', ' FRYL', ' ENPP5', ' TBX18', ' SPTBN2', ' PPFIA1', ' PCID2', ' IVD', ' PEAK1', ' NOL11', ' ZNF585A', ' PHLDB3', ' ZNF415', ' RAPGEF4', ' PI4KA', ' SEC22A', ' USP4', ' SERINC5', ' OR13F1', ' DRP2', ' CWF19L2', ' SLCO2B1', ' CNTN2', ' ABCB10', ' ZNF541', ' TRIM28', ' XRN1', ' ABCF1', ' CDK5RAP2', ' SPATA31A7', ' LARP4B', ' FOXA1', ' CGNL1', ' MYH2', ' ERBB2', ' SULT1C3', ' GTF2IRD2B', ' GNL3L', ' CHI3L1', ' LRRN2', ' ADAM20', ' GOLGA6L10', ' SLCO3A1', ' USP31', ' ATP6V1C2', ' SP3', ' DGKG', ' CPEB2', ' RNF19A', ' AGAP4', ' GDF10', ' MICALCL', ' PCK2', ' REC8', ' ZNF521', ' SLC39A6', ' GRIK5', ' CCNYL1', ' UBXN2A', ' ZXDC', ' ADGRG6', ' OPRM1', ' LONRF3', ' USP9X', ' CSTF2T', ' NUP133', ' HEXA', ' NPHS1', ' DLGAP4', ' MCM3', ' TTK', ' SLC10A5', ' GAPVD1', ' ITIH5', ' DPP3', ' GOLGA6L22', ' DLL4', ' TTC4', ' N4BP1', ' ZNF821', ' BRWD1', ' MPP4', ' MUC4', ' JAKMIP1', ' ADAM19', ' EBF1', ' ARFGEF3', ' NFE2L3', ' TM9SF3', ' OR8U1', ' HYDIN', ' SMCR8', ' PPP1R15A', ' SEMG2', ' KCNJ15', ' IRS1', ' MZB1', ' PCDHGC3', ' THAP5', ' PARP10', ' CNTNAP3', ' OR4C46', ' AEBP2', ' KCNA5', ' RANBP10', ' FSHR', ' RARB', ' CHD1', ' SMAP1', ' RALGDS', ' SATL1', ' ADAR', ' HOMEZ', ' CYP4F11', ' LAMA4', ' CFAP47', ' QSER1', ' ZFC3H1', ' TMEM63C', ' SF3B1', ' CNGA3', ' SOGA3', ' KLHL31', ' GPC3', ' CELA1', ' TSR1', ' ABCA7', ' EIF4A2', ' CRYBG1', ' MROH1', ' CHD7', ' USP47', ' STARD9', ' CDR2', ' DRC7', ' KRT23', ' SYDE1', ' ASXL2', ' FGL2', ' SLC27A4', ' NBPF14', ' LRRK1', ' PLCB2', ' EEF2K', ' PAPD5', ' GRB7', ' BPTF', ' PSME4', ' ECHDC1', ' OSBPL3', ' DLG5', ' BCL11B', ' IL27RA', ' CDC7', ' SGK2', ' CATSPER3', ' EXOC4', ' MAP7D3', ' AGBL2', ' CELSR3', ' C9orf3', ' IQGAP1', ' CTCF', ' EFTUD2', ' RHBDF2', ' CLCN2', ' PCDHA1', ' RIMS2', ' LAMP2', ' ADGRG2', ' ZNF248', ' NBPF19', ' OTOA', ' SMARCA4', ' CASP8', ' TMEM131', ' TOPAZ1', ' LARS', ' SLC20A2', ' MAEL', ' SHMT2', ' ELP5', ' ATP8B3', ' PLCB1', ' NBEAL1', ' ROBO2', ' EEPD1', ' RAB6A', ' CPSF6', ' FBN1', ' SGIP1', ' ACLY', ' NEURL4', ' TDRD12', ' GGT1', ' KIF1A', ' ZMYM3', ' NFKB2', ' PRKG1', ' LCA5L', ' ELFN2', ' CRMP1', ' HIST1H2AE', ' APAF1', ' RPAP1', ' TAOK2', ' CTH', ' MORC2', ' RARS2', ' GAB3', ' KDM5C', ' SCAPER', ' MOCOS', ' ARHGEF1', ' SHANK1', ' FNDC1', ' PA2G4', ' RNF43', ' CPNE1', ' EIF5B', ' PRKN', ' NOBOX', ' MYBL1', ' NPIPB5', ' MRPL45', ' UNC13A', ' ADAMTS1', ' C2CD5', ' STAT2', ' CCDC17', ' ZNF850', ' PLPPR3', ' RXRG', ' OR13G1', ' DEPDC1', ' AKAP8', ' SEL1L2', ' NPFFR2', ' PHACTR1', ' COL27A1', ' TXNIP', ' LY9', ' GMEB1', ' ZNF652', ' IL1R2', ' TRPC5', ' FAM120C', ' OR5AK2', ' FES', ' WLS', ' ZNF286B', ' GOLGA6L6', ' RTF1', ' KAT14', ' ACO2', ' SPICE1', ' CTNND2', ' TTC23L', ' FGFR1OP', ' GPR34', ' OR6K3', ' ATF7IP', ' PLXND1', ' CAPN6', ' PPRC1', ' IGFN1', ' ZNF573', ' NBPF26', ' NES', ' NUP88', ' VSTM2B', ' MME', ' CYP51A1', ' SSX7', ' TRIM33', ' LATS1', ' RXFP4', ' NOS3', ' MAMDC4', ' PNLIPRP3', ' ZFP91', ' SLC22A11', ' NARF', ' PGR', ' OR5M1', ' OR4Q3', ' PAPLN', ' CTAGE1', ' AP1B1', ' CNTN3', ' ZKSCAN1', ' HTR2C', ' HSPA14', ' ZNF268', ' SIX6', ' UPF1', ' RAB11FIP5', ' CRYBG3', ' HIST1H2BE', ' FBXL13', ' USP51', ' CFAP70', ' WASF3', ' IWS1', ' FCHSD1', ' ZNF331', ' PHC3', ' CWH43', ' MICU3', ' NOC3L', ' CHD1L', ' RABGAP1L', ' CAND1', ' ZFP30', ' CHGB', ' ZDHHC11', ' EIF5', ' MTCL1', ' HS3ST4', ' PARP8', ' FOXP2', ' FAM83A', ' ZSWIM3', ' CPSF3', ' EIF2B5', ' CEP85L', ' HIST1H1C', ' WRN', ' TMPO', ' ATXN3', ' NPIPB12', ' ZNF567', ' HNF4A', ' IMPG2', ' JAK2', ' MUC15', ' NBPF10', ' ABCA10', ' CAST', ' RREB1', ' FMO5', ' SPRED1', ' C17orf80', ' ANKEF1', ' PRDM5', ' WDFY4', ' SLC22A10', ' CD46', ' AGO4', ' GRHL1', ' PCDHA6', ' CHSY1', ' PNPLA8', ' MGAM2', ' INTS1', ' MAB21L1', ' TC2N', ' CLEC4M', ' ADGRB1', ' CALHM2', ' DNAJC16', ' PHC2', ' ZNF551', ' C7orf55-LUC7L2', ' C11orf84', ' ONECUT1', ' RSBN1L', ' CFP', ' OR4N2', ' LPCAT1', ' EPPK1', ' ADAM30', ' CIITA', ' KLHL14', ' ZNF25', ' ZC3H7B', ' CDKN2AIP', ' ARHGEF2', ' DNTTIP1', ' C2orf16', ' ZUFSP', ' FBXO33', ' KLB', ' MBOAT7', ' SMARCD3', ' SENP1', ' OR4K2', ' SLC39A7', ' PRKAR2B', ' SPANXN2', ' NBPF15', ' CDC20', ' GSK3A', ' LONRF2', ' HSPA4', ' PCDHA5', ' OPRD1', ' MAGEL2', ' NEFH', ' UGT1A9', ' PABPC1', ' RBM15', ' TTI1', ' ADAD1', ' C1orf116', ' SYTL1', ' KIAA0586', ' FIGNL1', ' SLC30A10', ' ITGA2B', ' NLRP7', ' TRIOBP', ' DVL3', ' ATP13A1', ' NUP210', ' DROSHA', ' CLCN6', ' CHST9', ' TAF4', ' BTBD18', ' DACT1', ' LONP2', ' AMER3', ' FRMPD3', ' CATSPER2', ' SH3TC2', ' TMEM151B', ' PREB', ' MTMR12', ' IMPG1', ' SOX6', ' DUSP18', ' MRVI1', ' KRAS', ' NCDN', ' CHRNA4', ' IL37', ' OPHN1', ' IDE', ' CXCR1', ' KBTBD6', ' OR14K1', ' ZNF677', ' AKT1', ' DUSP9', ' SGCB', ' CLEC18C', ' ARSB', ' CLIC5', ' DNAAF3', ' COX15', ' BAX', ' KIAA1191', ' SPPL2A', ' P2RY1', ' CRTAM', ' CNMD', ' CPXM1', ' SIGLEC9', ' GDAP1', ' OR13J1', ' RAB9B', ' KIAA1644', ' GALNT10', ' PHF24', ' STARD3', ' ANKRD35', ' CD1C', ' OR2B2', ' SART1', 'TP53', ' CDH1', ' GATA3', ' PIK3CA', ' MAP3K1', ' AKT1', ' FOXA1', ' PITX2', ' TBL1XR1', ' ARID1A', ' CTCF', ' EDNRB', ' ARHGAP32', ' IL4R', ' PRKCI', ' SLC9A3R1', ' SORBS1', ' SMO', 'DNAH2', ' CDH1', ' DHDDS', ' GRID1', ' RXFP2', ' PPP1R1C', ' STYK1', ' GART', ' TAF1A', ' ANKRD12', ' GDA', ' PIGL', ' DDAH1', ' FLJ44635', ' NCOR1', ' PEX7', ' DTNB', ' CCDC12', ' CA12', ' UBE2L3', ' LIFR', ' YIPF4', ' ZFYVE16', ' KRT9', ' ATP6V1H', ' SYNGR4', ' SLC25A14', ' GRB2', ' LSM2', ' FGGY', ' SIDT1', ' PPAP2B', ' SYN1', ' DAZAP1', ' PI4KB', ' FAM115C', ' GATAD1', ' FBXW4', ' IFNGR2', ' STX5', ' PDP2', ' LRP1', ' C1orf26', ' STAB2', ' CDK6', ' C1orf93', ' TBCA', ' PALM2', ' C21orf70', ' TM4SF5', ' MAPKAP1', ' NLGN2', ' KIN', ' NDRG2', ' PPP2R5D', ' TAF1B', ' CBX1', ' DAAM1', ' ART1', ' IQCB1', ' CBFB', ' ANKRD46', ' PRMT5', ' IFT81', ' LPGAT1', ' SLC25A44', ' ABCA7', ' CDCP2', ' NOP58', ' MYO10', ' TFRC', ' KIAA1432', ' PLXDC1', ' PITX3', ' SGK196', ' SEC23B', ' CHDH', ' CLOCK', ' EEF2K', ' MKX', ' DEAF1', ' MYO9A', ' NIPBL', ' IL4R', ' PRKCA', ' DDX6', ' RAB23', ' VAX2', ' PDE7B', ' TUBGCP3', ' C20orf26', ' KIF13A', ' RDX', ' MEX3A', ' ELN', ' SLC39A8', ' EEFSEC', ' AKAP13', ' NUP133', ' C1orf9', ' FANCC', ' SGK269', 'PIK3CA', ' TP53', 'AKT1', ' GOLGA6L22', ' GOLGA6L10', ' NBPF15', ' KRAS', ' PIK3CA', ' FAM102A', ' GOLGA6L6', ' HIST1H2AE', ' AGAP4', ' CLEC18C', ' HIST1H1T', ' FRMPD3', ' NBPF14', ' GATA3', ' NPIPB12', ' LPAR4', ' MFAP5', ' SF3B1', ' GRXCR1', ' DRP2', ' RARS2', ' ZNF471', ' NBPF12', ' MUC4', ' ANLN', ' KRTAP1-1', ' ATP23', ' QRICH2', ' NBPF26', ' FOXA1', ' CYP4B1', ' ERBB2', ' RTF1', ' PTEN', ' TP53', ' CDH1', ' POTEM', ' FYB2', ' EXOC4', ' RGS7', ' RUNX1', ' ZNF718', ' SWAP70', ' CHST2', ' CLCN6', ' BRD7', ' TOGARAM2', ' SLC17A4', ' ITCH', ' GPALPP1', ' ADAM11', ' PHACTR2', ' DGCR2', ' TRIM49', ' GPR142', ' PRB3', ' TSPAN11', ' SLC25A13', ' ZNF649', ' TRIM60', ' ZKSCAN5', ' DCP1B', ' SLC25A32', ' HCAR3', ' BBS2', ' RGPD8', ' ARHGAP9', ' DNTTIP1', ' SUPT3H', ' TRPV6', ' PRSS38', ' HIST1H2BE', ' SLC20A2', ' SLC9A4', ' GIMAP4', ' TMEM38B', ' SNRNP40', ' GSK3A', ' DAZAP1', ' TNFRSF10D', ' SSTR4', ' ZNF75D', ' DVL3', ' DROSHA', ' CABYR', ' CDCA7', ' COIL', ' REPS1', ' NBN', ' FLVCR1', ' PM20D2', ' ZBTB43', ' PPP1R10', ' POU2F1', ' ENTPD6', ' TNNI3', ' TMEM71', ' SGK2', ' GPD2', ' NEFH', ' NBPF10', ' PAPOLA', ' NBPF19', ' CD34', ' SLC25A2', ' TTC23L', ' PPARG', ' ELL3', ' SELENOP', ' JAKMIP1', ' PRKX', ' DNAJC10', ' FMO5', ' FRG2C', ' TBC1D13', ' TBC1D15', ' ACTA2', ' CXCR1', ' TRMT2A', ' KLHL5', ' MAMDC2', ' PCCA', ' IL11RA', ' GOLGA1', ' KCNV1', ' ATXN3', ' CBFB', ' ACSS3', ' LYSMD1', ' FBXW7', ' POM121', ' TMEM132C', ' PHACTR1', ' TRAM1L1', ' FLRT3', ' ZNF555', ' PCDHA8', ' MYO15A', ' RAB6A', ' C7', ' HERC5', ' FAM91A1', ' HLF', ' ITGAE', ' SMAD2', ' ITGA2B', ' ZMAT1', ' PRAMEF1', ' BRD4', ' PTPN12', ' MCPH1', ' CDK16', ' LRRN2', ' ZBTB7C', ' PHC3', ' TC2N', ' DPP3', ' C16orf96', ' DLL1', ' SLFN13', ' IRF9', ' CLK1', ' RHOBTB3', ' OR13G1', ' FAR1', ' GAS6', ' OR7A5', ' BABAM2', ' HIST2H3D', ' LHX4', ' FCHSD1', ' DEPDC1', ' SYP', ' LY9', ' ARSK', ' ATL2', ' NARS2', ' CCSER1', ' TFDP1', ' ZBED5', ' GALNT13', ' GALNT10', ' FDPS', ' CRISPLD1', ' HSD3B2', ' ALLC', ' RNF43', ' MARCH5', ' SSX1', ' FBXO24', ' IQGAP1', ' TERT', ' TNK2', ' ABR', ' PKP1', ' KIF14', ' CD248', ' ARMC9', ' CEP89', ' FGL2', ' POLR3B', ' IFNGR1', ' BPIFB1', ' SFSWAP', ' ZNF200', ' DGKE', ' ADAMTS6', ' CYP2C19', ' PARP3', ' GAD2', ' GORAB', ' HAND2', ' CYB5R4', ' STAU2', ' FNDC3A', ' GBP3', ' SDE2', ' SLCO3A1', ' ELF4', ' OR2G3', ' C2CD5', ' KCNK9', ' KCND1', ' COPB2', ' HMGCR', ' DENND4B', ' SIPA1L1', ' VWF', ' MAP2K4', ' OR13C8', ' CHRM2', ' DAPK1', ' PCDHGB4', ' ZNF687', ' DAB1', ' GTF2IRD2B', ' KDM5C', ' PRRX1', ' ZPLD1', ' ZC3H15', ' CPEB1', ' MR1', ' CDC5L', ' ZNF582', ' FAM49B', ' PCDHB14', ' MLPH', ' KPNA7', ' TGFBR1', ' EEF2K', ' BTRC', ' SPECC1', ' MAEL', ' SLC7A9', ' VAV1', ' ARHGEF11', ' PLCB1', ' CTNND1', ' OR5AK2', ' ASL', ' SLC30A1', ' ABCF3', ' PTPN4', ' CEMIP', ' TEX2', ' STARD7', ' ERMP1', ' CLSTN2', ' NOL10', ' CSTF2T', ' LTK', ' HYOU1', ' BMPR2', ' PHC2', ' PDE6A', ' METAP2', ' EFEMP1', ' KPNB1', ' PRCC', ' MAPK4', ' TMEM246', ' PCDHB4', ' C9orf3', ' HNRNPK', ' SYDE2', ' UGT1A4', ' MAGEA4', ' CDK11A', ' C14orf39', ' PASK', ' RAB9B', ' DHX30', ' KLHL7', ' EFCAB3', ' LILRA4', ' MYO5C', ' DZANK1', ' SLC39A6', ' PKP2', ' GAB3', ' ACVR2A', ' AP3B1', ' HIST1H3B', ' FRYL', ' HMGCLL1', ' VIL1', ' COBLL1', ' RNF6', ' KLHL31', ' LATS1', ' OR6A2', ' OR4D10', ' ZNF518B', ' ACPP', ' CPXM1', ' MYH10', ' NLGN1', ' ESR1', ' BROX', ' NOS3', ' PIWIL3', ' EIF5B', ' MAML3', ' KDM4A', ' SEC31A', ' ZNF335', ' SMG6', ' AGTPBP1', ' PNPLA8', ' SMC2', ' AMPD1', ' KRT28', ' EPS15', ' CNOT3', ' ERCC4', ' NEUROD6', ' ZNF441', ' RHOA', ' UGT8', ' IDH1', ' CDHR2', ' ADAMTS3', ' CTCF', ' TBX3', ' MED23', ' PEG3', ' HIST1H2BC', ' BEST3', ' ZNF841', ' NRK', ' KIF1B', ' NRXN1', ' ERBB3', ' FGFR2', ' ZNF135', ' IL6ST', ' ZNF814', ' LRRC66', ' GNL3L', ' ANKS1B', ' URB2', ' ZHX1', ' PCDHA2', ' ZNF473', ' ROR2', ' PKN2', ' NOTCH1', ' GPATCH1', ' UBE2O', ' ZNF180', ' CAPRIN2', ' SEMA3C', ' PLCL1', ' ZNF300', ' MTSS1', ' SCAPER', ' RNF146', ' MROH1', ' TINAG', ' CILP', ' STAG3', ' NEDD4L', ' CLASP1', ' LIFR', ' NBPF11', ' PRKD3', ' RARB', ' EXO1', ' CXCR3', ' RAD51C', ' GRK1', ' PANK4', ' VLDLR', ' RGSL1', ' MAN2A2', ' PTPRQ', ' C3orf30', ' RPTN', ' XKR4', ' PLCZ1', ' TJP1', ' SLC39A12', ' MLLT10', ' SCN1A', ' CTNND2', ' PIK3R1', ' RB1', ' LARP4B', ' KRIT1', ' FMO2', ' BRIP1', ' GBE1', ' APBA2', ' MON2', ' CIT', ' PCF11', ' POTEH', ' FAM184A', ' GIMAP8', ' ZNF532', ' TF', ' COL5A3', ' FAP', ' RBM44', ' LRCH1', ' PDZRN3', ' CASK', ' POP1', ' MRC2', ' LPO', ' KCND2', ' MEFV', ' NRDE2', ' DSPP', ' CD1E', ' SUGP1', ' JADE3', ' AUTS2', ' ZNF229', ' ESYT1', ' KANSL1', ' KLHL1', ' ADGRA1', ' PRKD1', ' HPS3', ' ABCC2', ' CLEC16A']\n"
     ]
    }
   ],
   "source": [
    "df_BRCA_gene = []\n",
    "for k in df_BRCA_list:\n",
    "    df_BRCA_gene.extend(k)\n",
    "#print(df_ACC_gene)\n",
    "#print(len(df_ACC_gene))\n",
    "print(len(df_BRCA_gene))\n",
    "print(len(set(df_BRCA_gene)))\n",
    "print(df_BRCA_gene)"
   ]
  },
  {
   "cell_type": "code",
   "execution_count": 191,
   "id": "11a5f44c",
   "metadata": {},
   "outputs": [],
   "source": [
    "df_gene_list = []\n",
    "for i in df_group.first().index:\n",
    "    df_tmp = df_group.get_group(i).driver_gene\n",
    "    df_tmp = df_tmp.str.split(',')\n",
    "    list_tmp = []\n",
    "    for j in df_tmp:\n",
    "        list_tmp.extend(j)\n",
    "    df_gene_list.append(list(set(list_tmp)))"
   ]
  },
  {
   "cell_type": "code",
   "execution_count": 174,
   "id": "9e59a9b1",
   "metadata": {},
   "outputs": [
    {
     "name": "stdout",
     "output_type": "stream",
     "text": [
      "33\n"
     ]
    }
   ],
   "source": [
    "print(len(df_gene_list))"
   ]
  },
  {
   "cell_type": "code",
   "execution_count": 175,
   "id": "cf3db0c5",
   "metadata": {},
   "outputs": [
    {
     "name": "stdout",
     "output_type": "stream",
     "text": [
      "383\n",
      "[' KDM7A', ' RBM20', ' CUBN', ' ERBB4', ' FSTL5', ' PXDNL', ' SYNE1', ' HUWE1', ' CEP170', ' ABCC11', ' MUC4', ' PAPPA2', ' MME', ' DAB2', ' KIAA1671', ' HIVEP1', ' HSPG2', ' PCDH10', ' NLRP1', ' ANKS1A', ' SPTBN5', ' SMARCAL1', 'NLRP12', ' MYH6', ' NLRP12', ' CDH23', ' DMD', ' ADAMTS16', ' CTNNB1', ' LRP4', ' PLXNB3', ' CEP290', ' ZNF804B', ' ALG13', ' DAXX', ' UNC5C', ' DNAH5', 'DNAH2', ' FRMPD4', ' ZFAT', ' WDFY4', ' KIF26B', ' MDC1', ' UGT2A3', ' IRX4', ' HIVEP2', ' PARP12', ' KMT2C', ' FRAS1', ' SUOX', ' NOS3', ' LAMA1', ' C9', ' NR2F1', ' PLCG1', ' TTLL5', ' PCDHA2', ' KCTD16', ' CEP128', ' GPRASP2', ' EGFLAM', ' PDILT', ' TTN', ' SCN7A', ' EPG5', ' SCN2A', ' SCN11A', ' TRPA1', ' COBL', ' HK2', ' TAOK1', ' CNTN5', ' DSC2', ' FAT3', 'MUC4', ' HAVCR1', ' TBC1D32', ' ANKRD30B', ' UNC5D', ' USF3', ' FOXO1', ' MEN1', ' RBM27', ' TTC21A', ' NEB', ' RIMS2', ' CFAP47', ' TRIP13', ' ASXL3', ' KIRREL1', ' TFRC', ' PRAMEF19', ' CHD2', ' ST18', ' TRPC6', ' LRP1', ' LRRC34', ' SETD5', ' PCDHGA3', ' SLCO6A1', ' VPS35', ' KIF1A', ' NEXMIF', ' FBN1', ' TMEM132D', ' HMCN1', ' FHAD1', ' MAMLD1', ' SCAF4', ' CST9', ' PRDM9', ' TNKS1BP1', ' TIAM1', ' POLE', ' VAV3', ' SPATA31E1', 'TMEM247', ' ADAMTS2', ' TG', ' PKHD1L1', ' SMC4', ' KCNH7', ' CUX1', ' JAK3', ' PER3', ' TNR', ' FRMD7', ' NRK', ' AGBL1', ' AMER3', ' SLC4A11', ' FAM171B', ' EML6', ' MXRA5', ' MYO1G', ' FLG', ' TMEM247', ' DST', ' AVPR1A', ' LRP1B', ' FLT4', ' RTL1', ' PIK3AP1', ' HLTF', ' ZFPM2', ' SCAF1', ' ZNF648', ' PCDH15', ' LRFN5', ' VWA5B2', ' GNAS', ' KAT6A', ' DSCAM', ' GRID2IP', ' WDR45', ' ITIH1', ' FAM81B', ' PLEC', ' CCDC168', ' NELL1', ' CCDC73', ' ATP2B3', ' PLXNB2', ' ADGRG4', ' FAT1', ' TP53', ' PEG3', ' DCLK1', ' KIAA1109', ' C12orf65', 'APC', ' RTEL1-TNFRSF6B', ' EHMT1', ' MYH2', 'EXPH5', ' NFE2', ' SLC4A2', ' TAF1', ' MYO9B', ' DNAH10', ' APOB', ' TSHZ3', ' PARP1', ' GLB1L2', ' CRIM1', ' SULF2', ' RELN', ' SLIT2', ' CNTNAP5', ' COL18A1', ' PCDHB9', ' UNC13C', ' CYP4A22', ' RANBP2', ' KCNH1', ' SP140', ' SLC4A10', ' MYLK', ' GFRA1', ' NID2', ' NOTCH3', ' CENPE', ' MCF2L2', ' ENTPD4', ' SSPO', ' NLRP3', ' NSD1', ' CXXC1', ' MAP1B', ' KIF5A', ' ZNF793', ' TLR4', ' TMCC1', ' PRKAG2', ' XDH', ' APC', ' MED23', ' FADD', ' JMJD1C', ' VCAN', ' NUP188', ' MACF1', ' LAMA2', ' TWISTNB', ' NLN', ' SVEP1', ' ENPEP', ' HRNR', ' ADGRV1', ' ZNF831', ' ACSL1', ' CLTB', ' PCDH7', ' AHNAK2', ' DOCK2', ' DNAH7', ' KMT2D', ' PITX2', ' ADAMTS19', ' DNAH3', ' ADNP', ' SLCO4C1', ' USH2A', ' ARHGEF28', ' PCDHB5', ' SI', ' FRMPD3', ' SETBP1', ' SLITRK3', ' PHKB', ' FNDC1', ' APBA2', ' CYFIP2', ' STAB2', ' BEND3', ' RBM10', ' AKAP12', ' NLRP5', ' ADAMTS17', ' RGSL1', ' COL19A1', 'ACSL1', ' SRRM2', ' ZCCHC6', ' CHD7', ' FAT4', ' RANBP17', ' DNAJC13', ' GTF3C1', ' CAPN6', ' MYO18B', ' PAK3', ' SYNE2', ' ATM', ' FAM135B', ' SMPD4', ' SLC5A5', ' EXD2', ' COL5A1', ' ARAP2', ' SPATA9', ' CMYA5', ' PRKAR1A', ' BCORL1', ' RBM12', ' CACNA1F', ' DNHD1', ' ABCA12', ' LRRC4C', ' COL4A6', ' ALOX5', ' GRIP1', ' RPTN', ' KMT2B', ' ARHGAP21', ' ROBO2', ' MYH4', ' ATRX', ' PAPPA', ' GOLGA4', ' MPDZ', 'XIRP2', ' CDX4', ' TGFBR3', ' PCNX2', ' DIDO1', ' LRRD1', ' UBR4', ' PLEKHG6', ' DNAH6', ' SIPA1L3', ' CHL1', ' COL5A2', ' TRIOBP', ' TENM3', ' RIMS1', ' CDKL5', ' OSMR', ' SMC3', ' ANK3', ' RP1L1', ' PCDHGB7', 'ANO2', ' CDH4', ' ASCC3', ' PKHD1', ' IGFN1', ' FLNA', ' PHRF1', ' DSG1', ' VPS13A', ' ANK2', ' ITPR3', ' STAB1', ' PRUNE2', ' TENM1', ' CPS1', ' CSMD3', ' PI4KA', ' VWF', ' SPHKAP', ' DACT1', ' FBN2', ' SCN8A', ' CCIN', ' DNAH17', ' ASMTL', ' XIRP2', ' PCDHB11', ' MAP7D3', ' DNAH11', ' GRM3', ' WDR44', ' MYT1L', ' SRP72', ' TGM6', ' GCN1', ' TKTL2', ' ATF7IP', ' PRX', ' KMT2A', ' MYO1F', ' CRYBG1', ' PTPRD', ' HFM1', ' TRPV4', ' NF1', ' NAV3', ' HERC2', ' FBN3', ' TMEM2', ' GRIK1', ' RP1', ' OBSCN', ' TENM2', ' TPTE', ' PLA2G4A', ' LVRN', ' PGK2', ' TFDP3', ' HEPH', ' MYO15A', ' CD163L1']\n"
     ]
    }
   ],
   "source": [
    "print(len(df_gene_list[0]))\n",
    "print(df_gene_list[0])"
   ]
  },
  {
   "cell_type": "code",
   "execution_count": 199,
   "id": "4a8f0e7f",
   "metadata": {},
   "outputs": [
    {
     "name": "stdout",
     "output_type": "stream",
     "text": [
      "ACC 383\n",
      "BLCA 2474\n",
      "BRCA 2213\n",
      "CESC 1852\n",
      "CHOL 116\n",
      "COAD 3972\n",
      "DLBC 179\n",
      "ESCA 740\n",
      "GBM 2041\n",
      "HNSC 1962\n",
      "KICH 58\n",
      "KIRC 749\n",
      "KIRP 643\n",
      "LAML 424\n",
      "LGG 1767\n",
      "LIHC 1144\n",
      "LUAD 2974\n",
      "LUSC 2905\n",
      "MESO 45\n",
      "OV 1720\n",
      "PAAD 993\n",
      "PCPG 54\n",
      "PRAD 1171\n",
      "READ 1860\n",
      "SARC 555\n",
      "SKCM 4635\n",
      "STAD 3789\n",
      "TGCT 160\n",
      "THCA 199\n",
      "THYM 210\n",
      "UCEC 6830\n",
      "UCS 244\n",
      "UVM 40\n"
     ]
    }
   ],
   "source": [
    "for i in range(len(df_gene_list)):\n",
    "    print(df_group.first().index[i],len(df_gene_list[i]))"
   ]
  },
  {
   "cell_type": "code",
   "execution_count": null,
   "id": "c880b525",
   "metadata": {},
   "outputs": [],
   "source": []
  }
 ],
 "metadata": {
  "kernelspec": {
   "display_name": "Python 3",
   "language": "python",
   "name": "python3"
  },
  "language_info": {
   "codemirror_mode": {
    "name": "ipython",
    "version": 3
   },
   "file_extension": ".py",
   "mimetype": "text/x-python",
   "name": "python",
   "nbconvert_exporter": "python",
   "pygments_lexer": "ipython3",
   "version": "3.8.8"
  }
 },
 "nbformat": 4,
 "nbformat_minor": 5
}
