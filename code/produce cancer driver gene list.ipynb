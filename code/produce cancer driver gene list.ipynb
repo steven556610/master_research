{
 "cells": [
  {
   "cell_type": "markdown",
   "id": "9f9c6519",
   "metadata": {},
   "source": [
    "# enviorment"
   ]
  },
  {
   "cell_type": "code",
   "execution_count": 1,
   "id": "5b52b861",
   "metadata": {
    "ExecuteTime": {
     "end_time": "2021-10-14T13:19:42.800870Z",
     "start_time": "2021-10-14T13:19:40.957180Z"
    }
   },
   "outputs": [
    {
     "name": "stderr",
     "output_type": "stream",
     "text": [
      "ERROR:root:No traceback has been produced, nothing to debug.\n"
     ]
    }
   ],
   "source": [
    "%matplotlib inline\n",
    "%debug \n",
    "import csv\n",
    "import pandas as pd\n",
    "import numpy as np\n",
    "import networkx as nx"
   ]
  },
  {
   "cell_type": "markdown",
   "id": "c5a74e6d",
   "metadata": {},
   "source": [
    "# material address"
   ]
  },
  {
   "cell_type": "code",
   "execution_count": 2,
   "id": "c4e97c38",
   "metadata": {
    "ExecuteTime": {
     "end_time": "2021-10-14T13:19:42.846410Z",
     "start_time": "2021-10-14T13:19:42.816807Z"
    }
   },
   "outputs": [],
   "source": [
    "df = pd.read_table(\"../data/mutation_download_tab.txt\",sep=\"\\t\")"
   ]
  },
  {
   "cell_type": "code",
   "execution_count": 3,
   "id": "a435f7cf",
   "metadata": {
    "ExecuteTime": {
     "end_time": "2021-10-14T13:19:42.891835Z",
     "start_time": "2021-10-14T13:19:42.862142Z"
    }
   },
   "outputs": [
    {
     "data": {
      "text/html": [
       "<div>\n",
       "<style scoped>\n",
       "    .dataframe tbody tr th:only-of-type {\n",
       "        vertical-align: middle;\n",
       "    }\n",
       "\n",
       "    .dataframe tbody tr th {\n",
       "        vertical-align: top;\n",
       "    }\n",
       "\n",
       "    .dataframe thead th {\n",
       "        text-align: right;\n",
       "    }\n",
       "</style>\n",
       "<table border=\"1\" class=\"dataframe\">\n",
       "  <thead>\n",
       "    <tr style=\"text-align: right;\">\n",
       "      <th></th>\n",
       "      <th>cancer_project</th>\n",
       "      <th>cancer_type_abbr</th>\n",
       "      <th>tool</th>\n",
       "      <th>driver_gene</th>\n",
       "    </tr>\n",
       "  </thead>\n",
       "  <tbody>\n",
       "    <tr>\n",
       "      <th>0</th>\n",
       "      <td>Adrenocortical_carcinoma(TCGA,US)</td>\n",
       "      <td>ACC</td>\n",
       "      <td>activedriver</td>\n",
       "      <td>APC, USF3, TMCC1, CXXC1, CPS1, KIAA1671, ADNP,...</td>\n",
       "    </tr>\n",
       "    <tr>\n",
       "      <th>1</th>\n",
       "      <td>Adrenocortical_carcinoma(TCGA,US)</td>\n",
       "      <td>ACC</td>\n",
       "      <td>comet</td>\n",
       "      <td>ANO2, ANK3, STAB1, CLTB, HUWE1, EPG5, CHD2, RB...</td>\n",
       "    </tr>\n",
       "    <tr>\n",
       "      <th>2</th>\n",
       "      <td>Adrenocortical_carcinoma(TCGA,US)</td>\n",
       "      <td>ACC</td>\n",
       "      <td>dendrix</td>\n",
       "      <td>NLRP12, GOLGA4, NAV3, UNC13C, CMYA5, CCDC168, ...</td>\n",
       "    </tr>\n",
       "    <tr>\n",
       "      <th>3</th>\n",
       "      <td>Adrenocortical_carcinoma(TCGA,US)</td>\n",
       "      <td>ACC</td>\n",
       "      <td>driverml</td>\n",
       "      <td>EXPH5, EML6, TP53, MUC4, NUP188</td>\n",
       "    </tr>\n",
       "    <tr>\n",
       "      <th>4</th>\n",
       "      <td>Adrenocortical_carcinoma(TCGA,US)</td>\n",
       "      <td>ACC</td>\n",
       "      <td>e-driver</td>\n",
       "      <td>XIRP2, SVEP1, CSMD3, CCDC168, HMCN1, VWF, GRID...</td>\n",
       "    </tr>\n",
       "    <tr>\n",
       "      <th>...</th>\n",
       "      <td>...</td>\n",
       "      <td>...</td>\n",
       "      <td>...</td>\n",
       "      <td>...</td>\n",
       "    </tr>\n",
       "    <tr>\n",
       "      <th>367</th>\n",
       "      <td>Uveal_melanoma(TCGA,US)</td>\n",
       "      <td>UVM</td>\n",
       "      <td>msea</td>\n",
       "      <td>EIF1AX, SF3B1, GNAQ, GNA11</td>\n",
       "    </tr>\n",
       "    <tr>\n",
       "      <th>368</th>\n",
       "      <td>Uveal_melanoma(TCGA,US)</td>\n",
       "      <td>UVM</td>\n",
       "      <td>mutex</td>\n",
       "      <td>GNAQ, GNA11</td>\n",
       "    </tr>\n",
       "    <tr>\n",
       "      <th>369</th>\n",
       "      <td>Uveal_melanoma(TCGA,US)</td>\n",
       "      <td>UVM</td>\n",
       "      <td>mutsigcv</td>\n",
       "      <td>GNA11, HECW2</td>\n",
       "    </tr>\n",
       "    <tr>\n",
       "      <th>370</th>\n",
       "      <td>Uveal_melanoma(TCGA,US)</td>\n",
       "      <td>UVM</td>\n",
       "      <td>netbox</td>\n",
       "      <td>BAP1, COL14A1, CYSLTR2, EIF1AX, GNA11, GNAQ, M...</td>\n",
       "    </tr>\n",
       "    <tr>\n",
       "      <th>371</th>\n",
       "      <td>Uveal_melanoma(TCGA,US)</td>\n",
       "      <td>UVM</td>\n",
       "      <td>oncodriveclust</td>\n",
       "      <td>GNAQ, GNA11, SF3B1, EIF1AX</td>\n",
       "    </tr>\n",
       "  </tbody>\n",
       "</table>\n",
       "<p>372 rows × 4 columns</p>\n",
       "</div>"
      ],
      "text/plain": [
       "                        cancer_project cancer_type_abbr            tool  \\\n",
       "0    Adrenocortical_carcinoma(TCGA,US)              ACC    activedriver   \n",
       "1    Adrenocortical_carcinoma(TCGA,US)              ACC           comet   \n",
       "2    Adrenocortical_carcinoma(TCGA,US)              ACC         dendrix   \n",
       "3    Adrenocortical_carcinoma(TCGA,US)              ACC        driverml   \n",
       "4    Adrenocortical_carcinoma(TCGA,US)              ACC        e-driver   \n",
       "..                                 ...              ...             ...   \n",
       "367            Uveal_melanoma(TCGA,US)              UVM            msea   \n",
       "368            Uveal_melanoma(TCGA,US)              UVM           mutex   \n",
       "369            Uveal_melanoma(TCGA,US)              UVM        mutsigcv   \n",
       "370            Uveal_melanoma(TCGA,US)              UVM          netbox   \n",
       "371            Uveal_melanoma(TCGA,US)              UVM  oncodriveclust   \n",
       "\n",
       "                                           driver_gene  \n",
       "0    APC, USF3, TMCC1, CXXC1, CPS1, KIAA1671, ADNP,...  \n",
       "1    ANO2, ANK3, STAB1, CLTB, HUWE1, EPG5, CHD2, RB...  \n",
       "2    NLRP12, GOLGA4, NAV3, UNC13C, CMYA5, CCDC168, ...  \n",
       "3                      EXPH5, EML6, TP53, MUC4, NUP188  \n",
       "4    XIRP2, SVEP1, CSMD3, CCDC168, HMCN1, VWF, GRID...  \n",
       "..                                                 ...  \n",
       "367                         EIF1AX, SF3B1, GNAQ, GNA11  \n",
       "368                                        GNAQ, GNA11  \n",
       "369                                       GNA11, HECW2  \n",
       "370  BAP1, COL14A1, CYSLTR2, EIF1AX, GNA11, GNAQ, M...  \n",
       "371                         GNAQ, GNA11, SF3B1, EIF1AX  \n",
       "\n",
       "[372 rows x 4 columns]"
      ]
     },
     "execution_count": 3,
     "metadata": {},
     "output_type": "execute_result"
    }
   ],
   "source": [
    "df"
   ]
  },
  {
   "cell_type": "code",
   "execution_count": 4,
   "id": "ae0c3593",
   "metadata": {
    "ExecuteTime": {
     "end_time": "2021-10-14T13:19:44.493996Z",
     "start_time": "2021-10-14T13:19:44.475981Z"
    }
   },
   "outputs": [
    {
     "data": {
      "text/plain": [
       "\"for i in range(len(df)):\\n    if df.loc['cancer_type_abbr']\""
      ]
     },
     "execution_count": 4,
     "metadata": {},
     "output_type": "execute_result"
    }
   ],
   "source": [
    "'''for i in range(len(df)):\n",
    "    if df.loc['cancer_type_abbr']'''"
   ]
  },
  {
   "cell_type": "markdown",
   "id": "9e44d69b",
   "metadata": {},
   "source": [
    "## process by cancer type abbr"
   ]
  },
  {
   "cell_type": "code",
   "execution_count": 5,
   "id": "f9e76644",
   "metadata": {
    "ExecuteTime": {
     "end_time": "2021-10-14T13:19:45.980139Z",
     "start_time": "2021-10-14T13:19:45.974156Z"
    }
   },
   "outputs": [],
   "source": [
    " df_group=df.groupby(by='cancer_type_abbr',as_index=True)"
   ]
  },
  {
   "cell_type": "code",
   "execution_count": 6,
   "id": "125edc96",
   "metadata": {
    "ExecuteTime": {
     "end_time": "2021-10-14T13:19:46.466539Z",
     "start_time": "2021-10-14T13:19:46.440489Z"
    }
   },
   "outputs": [
    {
     "data": {
      "text/plain": [
       "cancer_type_abbr\n",
       "ACC     10\n",
       "BLCA    14\n",
       "BRCA    14\n",
       "CESC    12\n",
       "CHOL     8\n",
       "COAD    14\n",
       "DLBC    10\n",
       "ESCA    12\n",
       "GBM     12\n",
       "HNSC    13\n",
       "KICH     8\n",
       "KIRC    10\n",
       "KIRP    10\n",
       "LAML    11\n",
       "LGG     11\n",
       "LIHC    14\n",
       "LUAD    14\n",
       "LUSC    13\n",
       "MESO     7\n",
       "OV      12\n",
       "PAAD    10\n",
       "PCPG    10\n",
       "PRAD    11\n",
       "READ    13\n",
       "SARC    10\n",
       "SKCM    12\n",
       "STAD    14\n",
       "TGCT    10\n",
       "THCA    10\n",
       "THYM    10\n",
       "UCEC    13\n",
       "UCS     10\n",
       "UVM     10\n",
       "dtype: int64"
      ]
     },
     "execution_count": 6,
     "metadata": {},
     "output_type": "execute_result"
    }
   ],
   "source": [
    "df_group.size()"
   ]
  },
  {
   "cell_type": "code",
   "execution_count": 7,
   "id": "b87f0357",
   "metadata": {
    "ExecuteTime": {
     "end_time": "2021-10-14T13:19:46.892099Z",
     "start_time": "2021-10-14T13:19:46.869183Z"
    }
   },
   "outputs": [
    {
     "data": {
      "text/plain": [
       "Index(['ACC', 'BLCA', 'BRCA', 'CESC', 'CHOL', 'COAD', 'DLBC', 'ESCA', 'GBM',\n",
       "       'HNSC', 'KICH', 'KIRC', 'KIRP', 'LAML', 'LGG', 'LIHC', 'LUAD', 'LUSC',\n",
       "       'MESO', 'OV', 'PAAD', 'PCPG', 'PRAD', 'READ', 'SARC', 'SKCM', 'STAD',\n",
       "       'TGCT', 'THCA', 'THYM', 'UCEC', 'UCS', 'UVM'],\n",
       "      dtype='object', name='cancer_type_abbr')"
      ]
     },
     "execution_count": 7,
     "metadata": {},
     "output_type": "execute_result"
    }
   ],
   "source": [
    "df_group.first().index"
   ]
  },
  {
   "cell_type": "markdown",
   "id": "3fa006fc",
   "metadata": {},
   "source": [
    "### use BRCA test"
   ]
  },
  {
   "cell_type": "code",
   "execution_count": 8,
   "id": "45a10fd2",
   "metadata": {
    "ExecuteTime": {
     "end_time": "2021-10-14T13:19:48.037118Z",
     "start_time": "2021-10-14T13:19:48.024179Z"
    }
   },
   "outputs": [
    {
     "data": {
      "text/plain": [
       "'\\ndf_BRCA = df_group.get_group(\"BRCA\").driver_gene\\nprint(df_BRCA)\\ndf_BRCA_list = df_BRCA.str.split(\\',\\')\\nprint(df_BRCA_list)\\n'"
      ]
     },
     "execution_count": 8,
     "metadata": {},
     "output_type": "execute_result"
    }
   ],
   "source": [
    "'''\n",
    "df_BRCA = df_group.get_group(\"BRCA\").driver_gene\n",
    "print(df_BRCA)\n",
    "df_BRCA_list = df_BRCA.str.split(',')\n",
    "print(df_BRCA_list)\n",
    "'''"
   ]
  },
  {
   "cell_type": "code",
   "execution_count": 10,
   "id": "4e01dde5",
   "metadata": {
    "ExecuteTime": {
     "end_time": "2021-10-14T13:20:07.467406Z",
     "start_time": "2021-10-14T13:20:07.461394Z"
    }
   },
   "outputs": [
    {
     "data": {
      "text/plain": [
       "'\\ndf_BRCA_gene = []\\nfor k in df_BRCA_list:\\n    df_BRCA_gene.extend(k)\\n#print(df_ACC_gene)\\n#print(len(df_ACC_gene))\\nprint(len(df_BRCA_gene))\\nprint(len(set(df_BRCA_gene)))\\nprint(df_BRCA_gene)\\n'"
      ]
     },
     "execution_count": 10,
     "metadata": {},
     "output_type": "execute_result"
    }
   ],
   "source": [
    "'''\n",
    "df_BRCA_gene = []\n",
    "for k in df_BRCA_list:\n",
    "    df_BRCA_gene.extend(k)\n",
    "#print(df_ACC_gene)\n",
    "#print(len(df_ACC_gene))\n",
    "print(len(df_BRCA_gene))\n",
    "print(len(set(df_BRCA_gene)))\n",
    "print(df_BRCA_gene)\n",
    "'''"
   ]
  },
  {
   "cell_type": "markdown",
   "id": "8583d8f7",
   "metadata": {},
   "source": [
    "### address on whole cancer type"
   ]
  },
  {
   "cell_type": "code",
   "execution_count": 50,
   "id": "ea4087e6",
   "metadata": {
    "ExecuteTime": {
     "end_time": "2021-10-14T13:41:23.529074Z",
     "start_time": "2021-10-14T13:41:23.489822Z"
    }
   },
   "outputs": [],
   "source": [
    "df_gene_list = []\n",
    "for i in df_group.first().index:\n",
    "    df_tmp = df_group.get_group(i).driver_gene\n",
    "    df_tmp = df_tmp.str.split(',')\n",
    "    list_tmp = []\n",
    "    for j in df_tmp:\n",
    "        list_tmp.extend(j)\n",
    "    df_gene_list.append(list(set(list_tmp)))"
   ]
  },
  {
   "cell_type": "code",
   "execution_count": 51,
   "id": "c3b28b62",
   "metadata": {
    "ExecuteTime": {
     "end_time": "2021-10-14T13:41:24.306922Z",
     "start_time": "2021-10-14T13:41:24.297971Z"
    }
   },
   "outputs": [
    {
     "name": "stdout",
     "output_type": "stream",
     "text": [
      "33\n"
     ]
    }
   ],
   "source": [
    "print(len(df_gene_list))"
   ]
  },
  {
   "cell_type": "code",
   "execution_count": 52,
   "id": "287c70ed",
   "metadata": {
    "ExecuteTime": {
     "end_time": "2021-10-14T13:41:24.688618Z",
     "start_time": "2021-10-14T13:41:24.679641Z"
    }
   },
   "outputs": [
    {
     "name": "stdout",
     "output_type": "stream",
     "text": [
      "383\n",
      "[' KMT2C', 'ACSL1', ' MME', ' SLIT2', ' CSMD3', ' ZNF793', ' KIF5A', ' MAP7D3', ' AHNAK2', ' ALG13', ' PRKAG2', ' SLC4A11', ' LRRC34', ' LRFN5', ' MYT1L', ' ERBB4', ' UBR4', ' FBN2', ' RBM20', ' EHMT1', ' GCN1', ' PGK2', ' SCN2A', ' PARP1', 'APC', ' SULF2', ' APC', ' GRIK1', ' RTL1', ' LAMA1', ' TWISTNB', ' SMARCAL1', ' AVPR1A', ' TENM3', 'EXPH5', ' NEXMIF', ' NR2F1', ' TG', ' MYO15A', ' FLG', ' CNTNAP5', ' GPRASP2', ' CCIN', ' HIVEP1', ' MXRA5', ' AKAP12', ' PRKAR1A', ' DNHD1', ' RPTN', ' CHD2', ' LRP1B', ' OBSCN', ' EGFLAM', ' TRIP13', ' PLA2G4A', ' SP140', ' FNDC1', ' RIMS1', ' HFM1', ' NSD1', ' SYNE2', ' EPG5', ' TFDP3', ' PCDH15', ' ZNF648', ' DSC2', ' SRRM2', ' MYO9B', ' DSCAM', ' RIMS2', ' SMC4', ' ATF7IP', ' LAMA2', ' PCDHA2', ' CEP290', ' TP53', ' FAM81B', ' CEP128', ' CYFIP2', ' RBM27', ' FAT1', ' MYH2', 'XIRP2', ' TMEM2', ' CPS1', ' DNAH6', ' FAM171B', 'NLRP12', ' FHAD1', ' SRP72', ' PEG3', ' NUP188', ' FLNA', ' GNAS', ' SLITRK3', ' PCDHGB7', ' KIAA1109', ' SLCO4C1', ' JAK3', ' CDH23', ' NLN', ' ALOX5', ' PCDHB11', ' TSHZ3', ' MAP1B', ' ZFPM2', ' ANKS1A', ' ATRX', 'ANO2', ' ARHGAP21', ' ST18', ' C12orf65', ' ROBO2', ' ADAMTS2', ' FLT4', ' TTN', ' STAB1', ' CUBN', ' LVRN', ' DNAH7', ' SVEP1', ' PCDH7', ' SCN11A', ' KCNH7', ' LRP1', ' ANK2', ' UNC13C', ' TNKS1BP1', ' DACT1', ' MUC4', ' PTPRD', ' ENTPD4', ' CDX4', ' GLB1L2', ' PCDHGA3', ' ASCC3', ' PKHD1', ' DAXX', ' NLRP1', ' PHRF1', ' MYLK', 'MUC4', ' AGBL1', ' ADGRG4', ' CUX1', ' SUOX', ' PLEC', ' PRX', ' GRM3', ' CHL1', ' FRMD7', ' LRRD1', ' CACNA1F', ' MED23', ' RANBP17', ' NEB', ' MACF1', ' TENM1', ' CFAP47', ' RBM12', ' TAOK1', ' ITPR3', ' PLXNB2', ' RANBP2', ' ADNP', ' RBM10', ' PLXNB3', ' NRK', ' HRNR', ' PCDHB9', ' ZNF804B', ' IRX4', ' TFRC', ' SCAF1', ' FBN1', ' MPDZ', ' NELL1', ' CXXC1', ' KMT2B', ' ASMTL', ' SLC4A2', ' MAMLD1', ' PRAMEF19', ' RP1', ' CCDC73', ' HIVEP2', ' COBL', ' TBC1D32', ' CENPE', ' TLR4', ' PITX2', ' XIRP2', ' TTLL5', ' SETD5', ' SLC4A10', ' LRP4', ' SPATA9', ' CMYA5', ' KMT2A', ' CDKL5', ' WDFY4', ' SI', ' SCAF4', ' USH2A', ' DIDO1', ' NOTCH3', ' GOLGA4', ' KCTD16', ' PCDH10', ' ATM', ' HEPH', ' NAV3', ' WDR45', ' CRYBG1', ' RELN', ' MCF2L2', ' COL5A1', ' HLTF', ' VCAN', ' TPTE', ' TIAM1', ' WDR44', ' SCN8A', ' FAT3', ' FAT4', ' RP1L1', ' DSG1', ' ZFAT', ' MYO1G', ' SPHKAP', ' TTC21A', ' RGSL1', ' HMCN1', ' CYP4A22', ' PI4KA', ' CDH4', ' FOXO1', ' UGT2A3', ' ARHGEF28', ' ANKRD30B', ' PRUNE2', ' HAVCR1', ' HK2', ' COL18A1', ' SPATA31E1', ' TGFBR3', ' VPS13A', ' HSPG2', ' EXD2', ' VAV3', ' CST9', ' PIK3AP1', ' TGM6', 'DNAH2', ' DST', ' CEP170', ' FSTL5', ' MYH6', ' NLRP3', ' PARP12', ' APOB', ' DMD', ' CAPN6', ' VWF', ' SETBP1', ' DNAH5', ' TENM2', ' SMC3', ' APBA2', ' DNAH10', ' TNR', ' DNAH11', ' PKHD1L1', ' ZNF831', ' CRIM1', ' PDILT', ' DAB2', ' STAB2', ' KMT2D', ' COL5A2', ' FRAS1', ' MYO18B', ' HERC2', ' ADGRV1', ' MYH4', ' ANK3', ' NOS3', ' TRPA1', ' POLE', ' VWA5B2', ' GRIP1', ' ABCC11', ' COL4A6', ' DNAH3', ' KIF1A', ' JMJD1C', ' ITIH1', ' SSPO', ' CCDC168', ' HUWE1', ' GTF3C1', ' XDH', ' VPS35', ' TRIOBP', ' TAF1', ' COL19A1', ' TMEM247', ' FRMPD3', ' ADAMTS17', ' TKTL2', ' DNAH17', ' NLRP12', ' SPTBN5', ' PRDM9', ' TMEM132D', ' PCNX2', ' ACSL1', ' UNC5D', ' RTEL1-TNFRSF6B', ' CTNNB1', ' KIRREL1', ' PER3', ' ARAP2', ' ADAMTS19', ' NF1', ' SYNE1', ' AMER3', ' MEN1', ' UNC5C', ' PXDNL', ' IGFN1', ' FBN3', ' C9', ' LRRC4C', ' PCDHB5', ' ZCCHC6', ' TMCC1', ' KIAA1671', ' GFRA1', ' CHD7', ' CLTB', ' OSMR', ' CD163L1', ' SLC5A5', ' MYO1F', ' NFE2', ' FRMPD4', ' MDC1', ' GRID2IP', ' TRPC6', ' NID2', ' KIF26B', ' KCNH1', ' ATP2B3', ' SIPA1L3', ' BEND3', ' FADD', ' BCORL1', 'TMEM247', ' DNAJC13', ' ADAMTS16', ' DOCK2', ' PAK3', ' PAPPA2', ' CNTN5', ' SLCO6A1', ' FAM135B', ' KDM7A', ' DCLK1', ' PAPPA', ' TRPV4', ' SCN7A', ' PLEKHG6', ' KAT6A', ' PHKB', ' EML6', ' SMPD4', ' ENPEP', ' NLRP5', ' ASXL3', ' USF3', ' PLCG1', ' ABCA12']\n"
     ]
    }
   ],
   "source": [
    "print(len(df_gene_list[0]))\n",
    "print(df_gene_list[0])"
   ]
  },
  {
   "cell_type": "code",
   "execution_count": 53,
   "id": "e5be901f",
   "metadata": {
    "ExecuteTime": {
     "end_time": "2021-10-14T13:41:25.117714Z",
     "start_time": "2021-10-14T13:41:25.085800Z"
    }
   },
   "outputs": [
    {
     "name": "stdout",
     "output_type": "stream",
     "text": [
      "ACC 383\n",
      "BLCA 2474\n",
      "BRCA 2213\n",
      "CESC 1852\n",
      "CHOL 116\n",
      "COAD 3972\n",
      "DLBC 179\n",
      "ESCA 740\n",
      "GBM 2041\n",
      "HNSC 1962\n",
      "KICH 58\n",
      "KIRC 749\n",
      "KIRP 643\n",
      "LAML 424\n",
      "LGG 1767\n",
      "LIHC 1144\n",
      "LUAD 2974\n",
      "LUSC 2905\n",
      "MESO 45\n",
      "OV 1720\n",
      "PAAD 993\n",
      "PCPG 54\n",
      "PRAD 1171\n",
      "READ 1860\n",
      "SARC 555\n",
      "SKCM 4635\n",
      "STAD 3789\n",
      "TGCT 160\n",
      "THCA 199\n",
      "THYM 210\n",
      "UCEC 6830\n",
      "UCS 244\n",
      "UVM 40\n"
     ]
    }
   ],
   "source": [
    "for i in range(len(df_gene_list)):\n",
    "    print(df_group.first().index[i],len(df_gene_list[i]))"
   ]
  },
  {
   "cell_type": "code",
   "execution_count": 54,
   "id": "548f590b",
   "metadata": {
    "ExecuteTime": {
     "end_time": "2021-10-14T13:41:25.481719Z",
     "start_time": "2021-10-14T13:41:25.469404Z"
    }
   },
   "outputs": [
    {
     "data": {
      "text/plain": [
       "383"
      ]
     },
     "execution_count": 54,
     "metadata": {},
     "output_type": "execute_result"
    }
   ],
   "source": [
    "len(df_gene_list[0])"
   ]
  },
  {
   "cell_type": "code",
   "execution_count": 55,
   "id": "71141bdf",
   "metadata": {
    "ExecuteTime": {
     "end_time": "2021-10-14T13:41:25.995872Z",
     "start_time": "2021-10-14T13:41:25.920997Z"
    }
   },
   "outputs": [],
   "source": [
    "for i in range(len(df_group.first().index)):\n",
    "    file_name='../predict gene_cancer_type_abbr/' + str(df_group.first().index[i]) +'.txt'\n",
    "    file = open(file_name,'w')\n",
    "    for k in df_gene_list[i]:\n",
    "        file.write(k)\n",
    "        file.write('\\n')\n",
    "    file.close()"
   ]
  },
  {
   "cell_type": "markdown",
   "id": "60721d02",
   "metadata": {},
   "source": [
    "## chi-square test analysis"
   ]
  },
  {
   "cell_type": "code",
   "execution_count": 25,
   "id": "5cb278fa",
   "metadata": {
    "ExecuteTime": {
     "end_time": "2021-10-14T11:06:29.687009Z",
     "start_time": "2021-10-14T11:06:29.683202Z"
    }
   },
   "outputs": [],
   "source": [
    "from scipy.stats import chisquare"
   ]
  },
  {
   "cell_type": "markdown",
   "id": "6b8182e5",
   "metadata": {},
   "source": [
    "是使用cgc or ncg 做total 還是使用全部的predict driver gene做total，還是只是兩個gene來做total"
   ]
  },
  {
   "cell_type": "code",
   "execution_count": null,
   "id": "3fe29678",
   "metadata": {},
   "outputs": [],
   "source": []
  },
  {
   "cell_type": "markdown",
   "id": "748c739a",
   "metadata": {
    "heading_collapsed": true
   },
   "source": [
    "## process by tool"
   ]
  },
  {
   "cell_type": "code",
   "execution_count": 14,
   "id": "dba008f3",
   "metadata": {
    "ExecuteTime": {
     "end_time": "2021-10-14T09:21:29.677549Z",
     "start_time": "2021-10-14T09:21:29.674864Z"
    },
    "hidden": true
   },
   "outputs": [],
   "source": [
    " df_tool_group=df.groupby(by='tool',as_index=True)"
   ]
  },
  {
   "cell_type": "code",
   "execution_count": 15,
   "id": "2495597f",
   "metadata": {
    "ExecuteTime": {
     "end_time": "2021-10-14T09:21:53.204306Z",
     "start_time": "2021-10-14T09:21:53.199637Z"
    },
    "hidden": true
   },
   "outputs": [
    {
     "data": {
      "text/plain": [
       "tool\n",
       "activedriver      32\n",
       "comet             21\n",
       "dawnrank          21\n",
       "dendrix           33\n",
       "driverml          31\n",
       "drivernet         14\n",
       "e-driver          32\n",
       "ipac              32\n",
       "memo              15\n",
       "msea              33\n",
       "mutex             16\n",
       "mutsigcv          33\n",
       "netbox            28\n",
       "oncodriveclust    31\n",
       "dtype: int64"
      ]
     },
     "execution_count": 15,
     "metadata": {},
     "output_type": "execute_result"
    }
   ],
   "source": [
    "df_tool_group.size()"
   ]
  },
  {
   "cell_type": "code",
   "execution_count": 21,
   "id": "68de2c4b",
   "metadata": {
    "ExecuteTime": {
     "end_time": "2021-10-14T10:30:04.525784Z",
     "start_time": "2021-10-14T10:30:04.513626Z"
    },
    "hidden": true
   },
   "outputs": [
    {
     "name": "stdout",
     "output_type": "stream",
     "text": [
      "14\n"
     ]
    },
    {
     "data": {
      "text/plain": [
       "Index(['activedriver', 'comet', 'dawnrank', 'dendrix', 'driverml', 'drivernet',\n",
       "       'e-driver', 'ipac', 'memo', 'msea', 'mutex', 'mutsigcv', 'netbox',\n",
       "       'oncodriveclust'],\n",
       "      dtype='object', name='tool')"
      ]
     },
     "execution_count": 21,
     "metadata": {},
     "output_type": "execute_result"
    }
   ],
   "source": [
    "print(len(df_tool_group.first().index))\n",
    "df_tool_group.first().index"
   ]
  },
  {
   "cell_type": "code",
   "execution_count": null,
   "id": "ec442022",
   "metadata": {
    "hidden": true
   },
   "outputs": [],
   "source": []
  }
 ],
 "metadata": {
  "kernelspec": {
   "display_name": "Python 3",
   "language": "python",
   "name": "python3"
  },
  "language_info": {
   "codemirror_mode": {
    "name": "ipython",
    "version": 3
   },
   "file_extension": ".py",
   "mimetype": "text/x-python",
   "name": "python",
   "nbconvert_exporter": "python",
   "pygments_lexer": "ipython3",
   "version": "3.8.8"
  },
  "toc": {
   "base_numbering": 1,
   "nav_menu": {},
   "number_sections": true,
   "sideBar": true,
   "skip_h1_title": false,
   "title_cell": "Table of Contents",
   "title_sidebar": "Contents",
   "toc_cell": false,
   "toc_position": {},
   "toc_section_display": true,
   "toc_window_display": false
  },
  "varInspector": {
   "cols": {
    "lenName": 16,
    "lenType": 16,
    "lenVar": 40
   },
   "kernels_config": {
    "python": {
     "delete_cmd_postfix": "",
     "delete_cmd_prefix": "del ",
     "library": "var_list.py",
     "varRefreshCmd": "print(var_dic_list())"
    },
    "r": {
     "delete_cmd_postfix": ") ",
     "delete_cmd_prefix": "rm(",
     "library": "var_list.r",
     "varRefreshCmd": "cat(var_dic_list()) "
    }
   },
   "types_to_exclude": [
    "module",
    "function",
    "builtin_function_or_method",
    "instance",
    "_Feature"
   ],
   "window_display": false
  }
 },
 "nbformat": 4,
 "nbformat_minor": 5
}
